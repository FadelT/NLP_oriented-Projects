{
  "nbformat": 4,
  "nbformat_minor": 0,
  "metadata": {
    "kernelspec": {
      "display_name": "Python 2",
      "language": "python",
      "name": "python2"
    },
    "language_info": {
      "codemirror_mode": {
        "name": "ipython",
        "version": 2
      },
      "file_extension": ".py",
      "mimetype": "text/x-python",
      "name": "python",
      "nbconvert_exporter": "python",
      "pygments_lexer": "ipython2",
      "version": "2.7.9"
    },
    "colab": {
      "name": "NBouyaa_KASSINGA_TP3_PageRank.ipynb",
      "provenance": [],
      "toc_visible": true
    }
  },
  "cells": [
    {
      "cell_type": "markdown",
      "metadata": {
        "id": "dhXS7j1--KpH"
      },
      "source": [
        "# TP3 : Parcours de graphes "
      ]
    },
    {
      "cell_type": "code",
      "metadata": {
        "colab": {
          "base_uri": "https://localhost:8080/"
        },
        "id": "vm88nlKA-739",
        "outputId": "dccd7362-707f-41af-86c1-2cad61858836"
      },
      "source": [
        "from google.colab import drive\n",
        "drive.mount('/content/drive')"
      ],
      "execution_count": null,
      "outputs": [
        {
          "output_type": "stream",
          "text": [
            "Drive already mounted at /content/drive; to attempt to forcibly remount, call drive.mount(\"/content/drive\", force_remount=True).\n"
          ],
          "name": "stdout"
        }
      ]
    },
    {
      "cell_type": "code",
      "metadata": {
        "id": "PMvHRq16-KpY"
      },
      "source": [
        "%matplotlib inline "
      ],
      "execution_count": null,
      "outputs": []
    },
    {
      "cell_type": "code",
      "metadata": {
        "id": "8exRv2sz-KpZ"
      },
      "source": [
        "import numpy as np\n",
        "import os\n",
        "import scipy.sparse as sp\n",
        "import re\n",
        "from sklearn.datasets import fetch_20newsgroups\n",
        "from sklearn.feature_extraction.text import CountVectorizer\n",
        "import matplotlib.pyplot as plt\n",
        "import scipy.io as io\n",
        "import string"
      ],
      "execution_count": null,
      "outputs": []
    },
    {
      "cell_type": "markdown",
      "metadata": {
        "id": "rOTibVeT-KpZ"
      },
      "source": [
        "# Exo 1 : prédiction de textes\n",
        "\n",
        "Un texte est une séquence de caractères modélisable comme une série de tirages aléatoires selon une loi L à déterminer."
      ]
    },
    {
      "cell_type": "markdown",
      "metadata": {
        "id": "-OIGF_PA-Kpa"
      },
      "source": [
        "### Lecture des données"
      ]
    },
    {
      "cell_type": "code",
      "metadata": {
        "id": "u4v1OhZd-Kpb"
      },
      "source": [
        "newsgroups_train = fetch_20newsgroups(subset='train',remove=('headers', 'footers', 'quotes'))\n",
        "n = newsgroups_train.filenames.shape[0]\n",
        "corpus = newsgroups_train.data"
      ],
      "execution_count": null,
      "outputs": []
    },
    {
      "cell_type": "code",
      "metadata": {
        "colab": {
          "base_uri": "https://localhost:8080/"
        },
        "id": "bBZIF7GG-Kpc",
        "outputId": "962a5f48-312b-4de2-9522-22ed69256690"
      },
      "source": [
        "print corpus[0]"
      ],
      "execution_count": null,
      "outputs": [
        {
          "output_type": "stream",
          "text": [
            "I was wondering if anyone out there could enlighten me on this car I saw\n",
            "the other day. It was a 2-door sports car, looked to be from the late 60s/\n",
            "early 70s. It was called a Bricklin. The doors were really small. In addition,\n",
            "the front bumper was separate from the rest of the body. This is \n",
            "all I know. If anyone can tellme a model name, engine specs, years\n",
            "of production, where this car is made, history, or whatever info you\n",
            "have on this funky looking car, please e-mail.\n"
          ],
          "name": "stdout"
        }
      ]
    },
    {
      "cell_type": "markdown",
      "metadata": {
        "id": "JsnzjGgW-Kpi"
      },
      "source": [
        "### Indexation des caractères"
      ]
    },
    {
      "cell_type": "code",
      "metadata": {
        "id": "yIBRuwCZ-Kpj"
      },
      "source": [
        "caract =['a','b','c','d','e','f','g','h','i','j','k','l','m','n','o','p','q','r','s','t','u','v','w','x','y','z',' ']\n",
        "index = {}\n",
        "for i in range(len(caract)):\n",
        "    index[caract[i]] = i"
      ],
      "execution_count": null,
      "outputs": []
    },
    {
      "cell_type": "markdown",
      "metadata": {
        "id": "V3C3p0i2-Kpj"
      },
      "source": [
        "## Modèle unigramme\n",
        "Soit une séquence de symboles $x_1,...,x_t,...$. Le modèle unigramme considère chaque symbole $x_t$ comme issu d'un tirage multinomial de probabilité $(p_1,...,p_n)$ avec $\\sum_i p_i =1$, où n est le nombre de symboles."
      ]
    },
    {
      "cell_type": "markdown",
      "metadata": {
        "id": "LnsSfnWK-Kpk"
      },
      "source": [
        "#### Fonction de tirage aléatoire "
      ]
    },
    {
      "cell_type": "code",
      "metadata": {
        "id": "P-5f6Iz8-Kpl"
      },
      "source": [
        "def tirage(p):\n",
        "    # réalise un tirage multinomial à partir du vecteur de probabilités p\n",
        "    v = np.random.multinomial(1,p, 1)\n",
        "    return np.where(v==1)[1][0]"
      ],
      "execution_count": null,
      "outputs": []
    },
    {
      "cell_type": "markdown",
      "metadata": {
        "id": "ItiJ-Nsc-Kpl"
      },
      "source": [
        "#### Fonction de \"nettoyage\" des caractères de ponctuation et des majuscules"
      ]
    },
    {
      "cell_type": "code",
      "metadata": {
        "id": "GaLk6Egp-Kpm"
      },
      "source": [
        "def nettoie(d):\n",
        "    l = re.findall(r'[a-z \\n]',d,re.I)\n",
        "    r = string.join(l,'')\n",
        "    r = string.replace(r,'\\n',' ')\n",
        "    #print d,'\\n','-'*30,'\\n',d_prim.lower()\n",
        "    return r.lower()"
      ],
      "execution_count": null,
      "outputs": []
    },
    {
      "cell_type": "code",
      "metadata": {
        "colab": {
          "base_uri": "https://localhost:8080/"
        },
        "id": "zJ3_YV1U-Kpm",
        "outputId": "04029e55-c5fd-4e88-9345-0c4f7f276103"
      },
      "source": [
        "print nettoie(corpus[0])"
      ],
      "execution_count": null,
      "outputs": [
        {
          "output_type": "stream",
          "text": [
            "i was wondering if anyone out there could enlighten me on this car i saw the other day it was a door sports car looked to be from the late s early s it was called a bricklin the doors were really small in addition the front bumper was separate from the rest of the body this is  all i know if anyone can tellme a model name engine specs years of production where this car is made history or whatever info you have on this funky looking car please email\n"
          ],
          "name": "stdout"
        }
      ]
    },
    {
      "cell_type": "markdown",
      "metadata": {
        "id": "SLxZ77Fo-Kpn"
      },
      "source": [
        "### A Faire\n",
        "\n",
        "1. A partir du corpus '20 newsgroups\", calculez le vecteur de probabilité $(p_1,...,p_n)$ en fonction des fréquences d'apparition des différents caractères (pensez à utiliser la fonction de nettoyage ci-dessus).\n",
        "2. Ensuite, vous utiliserez la fonction tirage ci-dessus pour générer une séquence de caractères obéissant à cette loi de probabilité."
      ]
    },
    {
      "cell_type": "code",
      "metadata": {
        "id": "Fjy4SK-2-Kpo"
      },
      "source": [
        ""
      ],
      "execution_count": null,
      "outputs": []
    },
    {
      "cell_type": "markdown",
      "metadata": {
        "id": "HUq3pAta-Kpp"
      },
      "source": [
        "## Modèle bigramme\n",
        "\n",
        "Soit une séquence de symboles $x_1,...,x_t,...$. Le modèle bigramme considère que la probabilité d'apparition du symbole $x_t$ dépend du symbole précédent uniquement, soit $P(X_t=x_t|X_1=x_1,...,X_{t-1}=x_{t-1}) = P(X_t=x_t|X_{t-1}=x_{t-1}) $\n",
        "\n",
        "Cette probabilité peut être représentée à l'aide d'un tableau bidimensionnel $(P_{ij})_{i,j= 1..n}$, avec $\\sum_j P_{ij}=1$, où $P_{ij}$ représente la probabilité de choisir le symbole $j$ après le symbole $i$.\n",
        "\n",
        "1. A partir du corpus '20 newsgroups\", calculez la matrice de probabilité $((p_{11},...,p_{1n}), ..., (p_{n1}, ..., p_{nn}))$ en fonction des fréquences d'apparition des différents couples de caractères dans la base.\n",
        "\n",
        "2. Ensuite, vous utiliserez la fonction tirage pour générer une séquence de caractères obéissant à cette loi de probabilité."
      ]
    },
    {
      "cell_type": "code",
      "metadata": {
        "id": "Gqe7vGHA-Kpp"
      },
      "source": [
        ""
      ],
      "execution_count": null,
      "outputs": []
    },
    {
      "cell_type": "markdown",
      "metadata": {
        "id": "oQiYDni5-Kpq"
      },
      "source": [
        "# Exo 2 : Enron database\n",
        "\n",
        "La base Enron contient la liste des emails envoyés et reçus par les différents employés de la société \"Enron\". Cette liste permet de définir un grape des échanges de messages entre employés. A partir de la structure  de ce graphe, il est possible de calculer un score de \"popularité\" pour chaue employé selon le principe du \"PageRank\" vu en cours."
      ]
    },
    {
      "cell_type": "markdown",
      "metadata": {
        "id": "RK7IRI1Z-Kpr"
      },
      "source": [
        "### Liste de employés"
      ]
    },
    {
      "cell_type": "code",
      "metadata": {
        "id": "4WEewGJz-Kps"
      },
      "source": [
        "employe = np.load('/content/drive/MyDrive/Text mining/employe.npy') #Chemin à modifier"
      ],
      "execution_count": null,
      "outputs": []
    },
    {
      "cell_type": "code",
      "metadata": {
        "colab": {
          "base_uri": "https://localhost:8080/"
        },
        "id": "mH1oS4paAIwA",
        "outputId": "7342bd24-cab2-4aae-872a-1761d5644836"
      },
      "source": [
        "employe"
      ],
      "execution_count": null,
      "outputs": [
        {
          "output_type": "execute_result",
          "data": {
            "text/plain": [
              "array(['40enron@enron.com', '9069761@skytel.com', 'a..howard@enron.com',\n",
              "       ..., 'zhiyong.wei@enron.com', 'zhiyun.yang@enron.com',\n",
              "       'zimin.lu@enron.com'], dtype='|S39')"
            ]
          },
          "metadata": {
            "tags": []
          },
          "execution_count": 414
        }
      ]
    },
    {
      "cell_type": "code",
      "metadata": {
        "colab": {
          "base_uri": "https://localhost:8080/"
        },
        "id": "Zb3if6hDB5su",
        "outputId": "f9703229-8f81-4f70-9170-b5c819a90bbe"
      },
      "source": [
        "len(employe)"
      ],
      "execution_count": null,
      "outputs": [
        {
          "output_type": "execute_result",
          "data": {
            "text/plain": [
              "2323"
            ]
          },
          "metadata": {
            "tags": []
          },
          "execution_count": 415
        }
      ]
    },
    {
      "cell_type": "code",
      "metadata": {
        "colab": {
          "base_uri": "https://localhost:8080/",
          "height": 35
        },
        "id": "pCr8USVF-Kps",
        "outputId": "95f1fae6-7f73-4110-96ad-e01685610342"
      },
      "source": [
        "employe[1191]"
      ],
      "execution_count": null,
      "outputs": [
        {
          "output_type": "execute_result",
          "data": {
            "application/vnd.google.colaboratory.intrinsic+json": {
              "type": "string"
            },
            "text/plain": [
              "'kenneth.lay@enron.com'"
            ]
          },
          "metadata": {
            "tags": []
          },
          "execution_count": 416
        }
      ]
    },
    {
      "cell_type": "code",
      "metadata": {
        "id": "KW9J0fGT-Kpv"
      },
      "source": [
        "index = {}\n",
        "for i in range(len(employe)):\n",
        "    index[employe[i]] = i"
      ],
      "execution_count": null,
      "outputs": []
    },
    {
      "cell_type": "code",
      "metadata": {
        "colab": {
          "base_uri": "https://localhost:8080/"
        },
        "id": "8FK7X8zj-Kpx",
        "outputId": "b45ffc8a-8068-4f70-8f9e-ac8ab343f591"
      },
      "source": [
        "index['kenneth.lay@enron.com']"
      ],
      "execution_count": null,
      "outputs": [
        {
          "output_type": "execute_result",
          "data": {
            "text/plain": [
              "1191"
            ]
          },
          "metadata": {
            "tags": []
          },
          "execution_count": 418
        }
      ]
    },
    {
      "cell_type": "markdown",
      "metadata": {
        "id": "XxO9nkCh-Kpx"
      },
      "source": [
        "### Lecture du graphe"
      ]
    },
    {
      "cell_type": "code",
      "metadata": {
        "id": "BoPx_tev-Kpy"
      },
      "source": [
        "G = io.mmread('/content/drive/MyDrive/Text mining/M.mtx') #Chemin à modifier\n",
        "G = G.tolil()"
      ],
      "execution_count": null,
      "outputs": []
    },
    {
      "cell_type": "markdown",
      "metadata": {
        "id": "Cp2jTVp9-Kpz"
      },
      "source": [
        "#### Affichage \"matrice pleine\" :"
      ]
    },
    {
      "cell_type": "code",
      "metadata": {
        "colab": {
          "base_uri": "https://localhost:8080/"
        },
        "id": "0wu3us8j-Kpz",
        "outputId": "d6a61e65-d33a-487c-ee95-6675f54627a0"
      },
      "source": [
        "G[:10,:10].todense()"
      ],
      "execution_count": null,
      "outputs": [
        {
          "output_type": "execute_result",
          "data": {
            "text/plain": [
              "matrix([[ 0.,  0.,  0.,  0.,  4.,  0.,  0.,  0.,  0.,  0.],\n",
              "        [ 0.,  0.,  0.,  0.,  0.,  0.,  0.,  0.,  0.,  0.],\n",
              "        [ 0.,  0.,  3.,  7.,  0.,  0.,  0.,  0.,  0.,  0.],\n",
              "        [ 0.,  0.,  2.,  0.,  0.,  0.,  0.,  0.,  0.,  0.],\n",
              "        [ 1.,  0.,  0.,  0.,  1.,  0.,  1.,  0.,  0.,  0.],\n",
              "        [ 0.,  0.,  0.,  0.,  0.,  0.,  0.,  7.,  0.,  0.],\n",
              "        [ 0.,  0.,  0.,  0., 62.,  0., 43.,  0.,  0.,  0.],\n",
              "        [ 0.,  0.,  0.,  0.,  0.,  8.,  0.,  1.,  0.,  0.],\n",
              "        [ 0.,  0.,  0.,  0.,  0.,  0.,  0.,  0., 16.,  0.],\n",
              "        [ 0.,  0.,  0.,  0.,  0.,  0.,  0.,  0.,  0.,  0.]])"
            ]
          },
          "metadata": {
            "tags": []
          },
          "execution_count": 420
        }
      ]
    },
    {
      "cell_type": "markdown",
      "metadata": {
        "id": "hm7G2_pZ-Kpz"
      },
      "source": [
        "#### Affichage \"matrice creuse\" :"
      ]
    },
    {
      "cell_type": "code",
      "metadata": {
        "colab": {
          "base_uri": "https://localhost:8080/"
        },
        "id": "MJ0tatAl-Kp0",
        "outputId": "d31fb5b7-1c85-4ffd-8032-d40fc2e1696d"
      },
      "source": [
        "sp.find(G[:10,:10])"
      ],
      "execution_count": null,
      "outputs": [
        {
          "output_type": "execute_result",
          "data": {
            "text/plain": [
              "(array([4, 2, 3, 2, 0, 4, 6, 7, 4, 6, 5, 7, 8], dtype=int32),\n",
              " array([0, 2, 2, 3, 4, 4, 4, 5, 6, 6, 7, 7, 8], dtype=int32),\n",
              " array([ 1.,  3.,  2.,  7.,  4.,  1., 62.,  8.,  1., 43.,  7.,  1., 16.]))"
            ]
          },
          "metadata": {
            "tags": []
          },
          "execution_count": 421
        }
      ]
    },
    {
      "cell_type": "markdown",
      "metadata": {
        "id": "yWD17Rpg-Kp0"
      },
      "source": [
        "#### Liste des destinataires et nombre de messages envoyés pour l'employé 1191 :\n"
      ]
    },
    {
      "cell_type": "code",
      "metadata": {
        "colab": {
          "base_uri": "https://localhost:8080/"
        },
        "id": "FWpceINR-Kp1",
        "outputId": "94ef5ac1-cd3c-4e17-82e3-52ad2fe12b0b"
      },
      "source": [
        "print(employe[1191])\n",
        "T=sp.find(G[1191,:])"
      ],
      "execution_count": null,
      "outputs": [
        {
          "output_type": "stream",
          "text": [
            "kenneth.lay@enron.com\n"
          ],
          "name": "stdout"
        }
      ]
    },
    {
      "cell_type": "code",
      "metadata": {
        "colab": {
          "base_uri": "https://localhost:8080/"
        },
        "id": "mVpZ_bC7CDIH",
        "outputId": "5cdb4495-b443-4bd0-eecd-58481971d20a"
      },
      "source": [
        "T[1].astype(float)"
      ],
      "execution_count": null,
      "outputs": [
        {
          "output_type": "execute_result",
          "data": {
            "text/plain": [
              "array([2.000e+00, 3.000e+00, 4.000e+00, 5.000e+00, 7.000e+00, 1.300e+01,\n",
              "       1.500e+01, 3.900e+01, 6.600e+01, 7.900e+01, 9.500e+01, 1.020e+02,\n",
              "       1.220e+02, 1.390e+02, 1.500e+02, 1.510e+02, 1.530e+02, 1.600e+02,\n",
              "       1.610e+02, 1.660e+02, 1.670e+02, 1.680e+02, 1.760e+02, 1.850e+02,\n",
              "       1.960e+02, 1.980e+02, 2.040e+02, 2.160e+02, 2.240e+02, 2.340e+02,\n",
              "       2.410e+02, 2.420e+02, 2.460e+02, 2.510e+02, 2.530e+02, 2.680e+02,\n",
              "       2.710e+02, 2.720e+02, 2.760e+02, 2.860e+02, 2.950e+02, 2.990e+02,\n",
              "       3.060e+02, 3.090e+02, 3.100e+02, 3.130e+02, 3.140e+02, 3.220e+02,\n",
              "       3.240e+02, 3.370e+02, 3.400e+02, 3.420e+02, 3.440e+02, 3.470e+02,\n",
              "       3.530e+02, 3.610e+02, 3.650e+02, 3.670e+02, 3.770e+02, 3.870e+02,\n",
              "       3.880e+02, 3.900e+02, 3.910e+02, 3.930e+02, 3.950e+02, 3.970e+02,\n",
              "       4.030e+02, 4.140e+02, 4.200e+02, 4.290e+02, 4.330e+02, 4.360e+02,\n",
              "       4.390e+02, 4.490e+02, 4.720e+02, 4.730e+02, 4.770e+02, 4.780e+02,\n",
              "       4.800e+02, 4.870e+02, 4.970e+02, 5.330e+02, 5.340e+02, 5.350e+02,\n",
              "       5.420e+02, 5.440e+02, 5.490e+02, 5.530e+02, 5.550e+02, 5.690e+02,\n",
              "       5.700e+02, 5.770e+02, 5.790e+02, 5.830e+02, 5.910e+02, 5.940e+02,\n",
              "       6.090e+02, 6.110e+02, 6.130e+02, 6.200e+02, 6.470e+02, 6.500e+02,\n",
              "       6.570e+02, 6.590e+02, 6.660e+02, 6.920e+02, 6.940e+02, 6.950e+02,\n",
              "       6.960e+02, 6.970e+02, 6.980e+02, 6.990e+02, 7.150e+02, 7.160e+02,\n",
              "       7.180e+02, 7.190e+02, 7.310e+02, 7.500e+02, 7.540e+02, 7.550e+02,\n",
              "       7.570e+02, 7.590e+02, 7.600e+02, 7.810e+02, 7.820e+02, 7.860e+02,\n",
              "       7.940e+02, 8.120e+02, 8.180e+02, 8.320e+02, 8.350e+02, 8.360e+02,\n",
              "       8.370e+02, 8.470e+02, 8.530e+02, 8.630e+02, 8.730e+02, 8.820e+02,\n",
              "       8.970e+02, 9.000e+02, 9.100e+02, 9.130e+02, 9.200e+02, 9.220e+02,\n",
              "       9.280e+02, 9.310e+02, 9.390e+02, 9.410e+02, 9.440e+02, 9.480e+02,\n",
              "       9.500e+02, 9.530e+02, 9.540e+02, 9.560e+02, 9.610e+02, 9.620e+02,\n",
              "       9.700e+02, 9.770e+02, 9.790e+02, 1.003e+03, 1.022e+03, 1.024e+03,\n",
              "       1.032e+03, 1.038e+03, 1.040e+03, 1.043e+03, 1.049e+03, 1.050e+03,\n",
              "       1.055e+03, 1.065e+03, 1.069e+03, 1.079e+03, 1.083e+03, 1.088e+03,\n",
              "       1.089e+03, 1.096e+03, 1.100e+03, 1.103e+03, 1.107e+03, 1.115e+03,\n",
              "       1.116e+03, 1.117e+03, 1.119e+03, 1.120e+03, 1.127e+03, 1.142e+03,\n",
              "       1.152e+03, 1.154e+03, 1.159e+03, 1.165e+03, 1.174e+03, 1.178e+03,\n",
              "       1.187e+03, 1.191e+03, 1.195e+03, 1.205e+03, 1.206e+03, 1.211e+03,\n",
              "       1.219e+03, 1.228e+03, 1.231e+03, 1.240e+03, 1.257e+03, 1.264e+03,\n",
              "       1.282e+03, 1.289e+03, 1.290e+03, 1.300e+03, 1.313e+03, 1.314e+03,\n",
              "       1.325e+03, 1.331e+03, 1.336e+03, 1.343e+03, 1.344e+03, 1.346e+03,\n",
              "       1.352e+03, 1.357e+03, 1.361e+03, 1.373e+03, 1.375e+03, 1.392e+03,\n",
              "       1.393e+03, 1.395e+03, 1.397e+03, 1.406e+03, 1.427e+03, 1.446e+03,\n",
              "       1.452e+03, 1.455e+03, 1.456e+03, 1.460e+03, 1.464e+03, 1.467e+03,\n",
              "       1.472e+03, 1.479e+03, 1.481e+03, 1.484e+03, 1.499e+03, 1.505e+03,\n",
              "       1.510e+03, 1.514e+03, 1.518e+03, 1.519e+03, 1.528e+03, 1.529e+03,\n",
              "       1.537e+03, 1.541e+03, 1.551e+03, 1.552e+03, 1.563e+03, 1.567e+03,\n",
              "       1.570e+03, 1.571e+03, 1.575e+03, 1.581e+03, 1.584e+03, 1.595e+03,\n",
              "       1.597e+03, 1.601e+03, 1.609e+03, 1.613e+03, 1.630e+03, 1.631e+03,\n",
              "       1.633e+03, 1.651e+03, 1.660e+03, 1.662e+03, 1.664e+03, 1.687e+03,\n",
              "       1.705e+03, 1.716e+03, 1.721e+03, 1.728e+03, 1.729e+03, 1.734e+03,\n",
              "       1.735e+03, 1.749e+03, 1.750e+03, 1.770e+03, 1.797e+03, 1.804e+03,\n",
              "       1.806e+03, 1.808e+03, 1.809e+03, 1.813e+03, 1.815e+03, 1.821e+03,\n",
              "       1.827e+03, 1.828e+03, 1.834e+03, 1.835e+03, 1.840e+03, 1.843e+03,\n",
              "       1.847e+03, 1.850e+03, 1.854e+03, 1.855e+03, 1.856e+03, 1.867e+03,\n",
              "       1.878e+03, 1.884e+03, 1.888e+03, 1.891e+03, 1.893e+03, 1.899e+03,\n",
              "       1.917e+03, 1.923e+03, 1.927e+03, 1.932e+03, 1.933e+03, 1.936e+03,\n",
              "       1.937e+03, 1.944e+03, 1.954e+03, 1.959e+03, 1.969e+03, 1.974e+03,\n",
              "       1.975e+03, 1.996e+03, 1.998e+03, 2.005e+03, 2.009e+03, 2.011e+03,\n",
              "       2.016e+03, 2.022e+03, 2.029e+03, 2.032e+03, 2.051e+03, 2.065e+03,\n",
              "       2.085e+03, 2.101e+03, 2.105e+03, 2.120e+03, 2.123e+03, 2.126e+03,\n",
              "       2.139e+03, 2.143e+03, 2.151e+03, 2.163e+03, 2.166e+03, 2.175e+03,\n",
              "       2.190e+03, 2.191e+03, 2.193e+03, 2.194e+03, 2.200e+03, 2.206e+03,\n",
              "       2.210e+03, 2.221e+03, 2.233e+03, 2.234e+03, 2.235e+03, 2.240e+03,\n",
              "       2.250e+03, 2.251e+03, 2.260e+03, 2.265e+03, 2.267e+03, 2.271e+03,\n",
              "       2.274e+03, 2.278e+03, 2.283e+03, 2.284e+03, 2.286e+03, 2.295e+03,\n",
              "       2.307e+03, 2.315e+03])"
            ]
          },
          "metadata": {
            "tags": []
          },
          "execution_count": 423
        }
      ]
    },
    {
      "cell_type": "markdown",
      "metadata": {
        "id": "V1sBB-X6-Kp1"
      },
      "source": [
        "#### Tirage multinomial (idem exercice précédent)"
      ]
    },
    {
      "cell_type": "code",
      "metadata": {
        "id": "FQODdDgL-Kp2"
      },
      "source": [
        "def tirage(x):\n",
        "    v = np.random.multinomial(1,x, 1)\n",
        "    return np.where(v==1)[1][0]"
      ],
      "execution_count": null,
      "outputs": []
    },
    {
      "cell_type": "code",
      "metadata": {
        "id": "zpBwa6HYSCoO"
      },
      "source": [
        "k=[0.5,0.25,2000]"
      ],
      "execution_count": null,
      "outputs": []
    },
    {
      "cell_type": "code",
      "metadata": {
        "colab": {
          "base_uri": "https://localhost:8080/"
        },
        "id": "R5ZmL1KtQwha",
        "outputId": "d62b7be8-f393-461f-e1bd-400d9e45c477"
      },
      "source": [
        "tirage(k)"
      ],
      "execution_count": null,
      "outputs": [
        {
          "output_type": "execute_result",
          "data": {
            "text/plain": [
              "0"
            ]
          },
          "metadata": {
            "tags": []
          },
          "execution_count": 426
        }
      ]
    },
    {
      "cell_type": "markdown",
      "metadata": {
        "id": "0cyJwTbz-Kp2"
      },
      "source": [
        "**PROBLEME**\n",
        "\n",
        "1. Calculer la matrice de transition $P$ à partir du graphe de liens en tenant compte des valeurs:\n",
        "  $$\\forall (i,j), P_{ij} = \\frac{G_{ij}} {\\sum_k G_{ik}}$$\n",
        "1. Implémenter l'algorithme PageRank simplifié (sans mise à jour de la matrice de transition) :\n",
        "  * Initialiser le vecteur $\\boldsymbol{x}$ à la valeur $(1/n,1/n, ..., 1/n)$ \n",
        "  * Pour chaque employé visité $i$ :\n",
        "    - choisir un employé $j$ au hasard parmi les liens sortants\n",
        "    - Mettre à jour le score $x_j$ de la page $j$, i.e. $$ x_j \\leftarrow q \\sum_{i:i\\rightarrow j} P_{ij} x_i + \\frac{1-q}{n}$$\n",
        "    - $i \\leftarrow j$\n",
        "  \n",
        "  (q = 0.85)\n",
        "1. Comment faire pour gérér les noeuds \"cul-de-sac\"?\n",
        "1. Quelle est le score et la fonction des 10 employés les plus \"populaires\"?\n",
        "(voir : http://www.inf.ed.ac.uk/teaching/courses/tts/assessed/roles.txt)\n",
        "1. Quel est le score et le rang de Kenneth Lay?\n"
      ]
    },
    {
      "cell_type": "markdown",
      "metadata": {
        "id": "VyukUkf5Dy8M"
      },
      "source": [
        "#Matrice de transition"
      ]
    },
    {
      "cell_type": "code",
      "metadata": {
        "id": "loKGNVr8-Kp3"
      },
      "source": [
        "def matrice_transition(G):\n",
        " P=np.zeros(G.shape)\n",
        " for i in range(G.shape[0]):\n",
        "    R=G.getrow(i)\n",
        "    I=sp.find(R)\n",
        "    somme= sum(I[2].astype(float))\n",
        "    for j in range(len(I[1])):\n",
        "     k=I[1][j]\n",
        "     P[i,k]=float(I[2][j])/float(somme)\n",
        " return P"
      ],
      "execution_count": null,
      "outputs": []
    },
    {
      "cell_type": "code",
      "metadata": {
        "id": "rlg3p1Jg4km0"
      },
      "source": [
        "M=matrice_transition(G)"
      ],
      "execution_count": null,
      "outputs": []
    },
    {
      "cell_type": "code",
      "metadata": {
        "id": "xoe6iwP-2azx",
        "colab": {
          "base_uri": "https://localhost:8080/"
        },
        "outputId": "71a31091-43aa-40b9-c424-f631014d9774"
      },
      "source": [
        "M"
      ],
      "execution_count": null,
      "outputs": [
        {
          "output_type": "execute_result",
          "data": {
            "text/plain": [
              "array([[0.        , 0.        , 0.        , ..., 0.        , 0.        ,\n",
              "        0.        ],\n",
              "       [0.        , 0.        , 0.        , ..., 0.        , 0.        ,\n",
              "        0.        ],\n",
              "       [0.        , 0.        , 0.01060071, ..., 0.        , 0.        ,\n",
              "        0.        ],\n",
              "       ...,\n",
              "       [0.        , 0.        , 0.        , ..., 0.00430108, 0.        ,\n",
              "        0.        ],\n",
              "       [0.        , 0.        , 0.        , ..., 0.        , 0.        ,\n",
              "        0.        ],\n",
              "       [0.        , 0.        , 0.        , ..., 0.00815851, 0.00582751,\n",
              "        0.01165501]])"
            ]
          },
          "metadata": {
            "tags": []
          },
          "execution_count": 429
        }
      ]
    },
    {
      "cell_type": "markdown",
      "metadata": {
        "id": "XnkBsIGlGmbM"
      },
      "source": [
        "#Algorithm de Page rank"
      ]
    },
    {
      "cell_type": "code",
      "metadata": {
        "id": "wgYhLUTi5O41"
      },
      "source": [
        "import random\n",
        "random.seed(100)"
      ],
      "execution_count": null,
      "outputs": []
    },
    {
      "cell_type": "code",
      "metadata": {
        "id": "6tKS3swps7rJ"
      },
      "source": [
        "def Random_j(i): #Cette fonction permet de choisir aléatoirement un autre employé j sachant que l'amployé visité est i; elle joue le rôle de la fonction tirage définie plus haut\n",
        "  L=G.getrow(i)\n",
        "  outs=sp.find(L)[1]\n",
        "  if outs.size==0:\n",
        "    return np.random.randint(2323)\n",
        "  else:\n",
        "    return random.choice(outs)\n",
        "\n",
        "def PageRank(G,it_max,q):\n",
        "  P=matrice_transition(G)\n",
        "  (n,m)=P.shape\n",
        "  X=np.ones(n)/n\n",
        "  i=np.random.randint(n)\n",
        "  for iter in range(it_max):\n",
        "    j=random_j(i)\n",
        "    entrant_j=sp.find(G.getcol(j))[0]\n",
        "    s=0\n",
        "    for k in entrant_j:\n",
        "      s=s+X[k]*P[k][j]\n",
        "    X[j]=q*s+(1-q)*(1/n)\n",
        "  return x"
      ],
      "execution_count": null,
      "outputs": []
    },
    {
      "cell_type": "markdown",
      "metadata": {
        "id": "cnl4bDsf6Erl"
      },
      "source": [
        "Comme nous pouvons le voir, il  faut préciser le nombre d'itérations maximale it_max."
      ]
    },
    {
      "cell_type": "code",
      "metadata": {
        "id": "HhSRZeb9tgut"
      },
      "source": [
        "x=PageRank(G,2000,0.85)"
      ],
      "execution_count": null,
      "outputs": []
    },
    {
      "cell_type": "code",
      "metadata": {
        "colab": {
          "base_uri": "https://localhost:8080/"
        },
        "id": "jvOQ8wbwumyt",
        "outputId": "4b6c54a0-3b5d-4dfd-dd0c-626af9af7223"
      },
      "source": [
        "len(x)"
      ],
      "execution_count": null,
      "outputs": [
        {
          "output_type": "execute_result",
          "data": {
            "text/plain": [
              "2323"
            ]
          },
          "metadata": {
            "tags": []
          },
          "execution_count": 433
        }
      ]
    },
    {
      "cell_type": "markdown",
      "metadata": {
        "id": "_RCmTogi3e3J"
      },
      "source": [
        "#Les Noeuds \"cul-de-sac\"\n",
        "\n",
        "\n",
        "Pour les noeuds \"cul-de-sac\", il faut créer des liens sortant vers toutes les autres pages.\n",
        "\n",
        "Du point de vue de la matrice, cela revient à trouver les lignes qui n’ont que des 0 et les remplacer par des lignes avec 1/(n-1) dans toutes les cases sauf sur la diagonale (lien d’un mail d'un employé vers lui-même). \n",
        "\n",
        "Pourquoi 1/(n-1) ? Tout simplement par ce qu’il y a n employés et qu’on considère que l’employé enverra son mail aléatoirement sur n’importe quel mail d'un autre employé (n(tous les employés) – 1 (son propre mail) = n-1)."
      ]
    },
    {
      "cell_type": "markdown",
      "metadata": {
        "id": "aPlotrYYzN7s"
      },
      "source": [
        "#les scores des 10 premiers employés et leurs fonctions"
      ]
    },
    {
      "cell_type": "code",
      "metadata": {
        "id": "j7-gqutkx3tP"
      },
      "source": [
        "dic={}\n",
        "for i in range(len(x)):\n",
        "  dic[i]=x[i]"
      ],
      "execution_count": null,
      "outputs": []
    },
    {
      "cell_type": "code",
      "metadata": {
        "id": "ydbir38jzr0K"
      },
      "source": [
        "dic_sorted=sorted(dic.items(), key=lambda x: x[1],reverse=True)"
      ],
      "execution_count": null,
      "outputs": []
    },
    {
      "cell_type": "code",
      "metadata": {
        "colab": {
          "base_uri": "https://localhost:8080/"
        },
        "id": "oqLm4KbK6_HH",
        "outputId": "31d8e245-2052-4f54-ce42-468538710e2f"
      },
      "source": [
        "dic_sorted[:10]"
      ],
      "execution_count": null,
      "outputs": [
        {
          "output_type": "execute_result",
          "data": {
            "text/plain": [
              "[(2148, 0.009664806004738472),\n",
              " (2094, 0.004954289710426263),\n",
              " (1373, 0.0037412681462557907),\n",
              " (1840, 0.002728985493337708),\n",
              " (1584, 0.0017568845266343626),\n",
              " (1160, 0.0015521734600351005),\n",
              " (1450, 0.0012704932606570894),\n",
              " (2124, 0.001255112542719331),\n",
              " (2191, 0.0011255072797935002),\n",
              " (1465, 0.0009229780514692583)]"
            ]
          },
          "metadata": {
            "tags": []
          },
          "execution_count": 436
        }
      ]
    },
    {
      "cell_type": "code",
      "metadata": {
        "colab": {
          "base_uri": "https://localhost:8080/"
        },
        "id": "xzEILL3UvYwk",
        "outputId": "4453a010-0d69-417f-9e6e-c5ef59d143da"
      },
      "source": [
        "for i in range(len(dic_sorted[:10])):\n",
        "  print(employe[dic_sorted[:10][i][0]])\n",
        "  "
      ],
      "execution_count": null,
      "outputs": [
        {
          "output_type": "stream",
          "text": [
            "tana.jones@enron.com\n",
            "steven.kean@enron.com\n",
            "louise.kitchen@enron.com\n",
            "richard.shapiro@enron.com\n",
            "michelle.cash@enron.com\n",
            "kay.mann@enron.com\n",
            "mark.haedicke@enron.com\n",
            "susan.scott@enron.com\n",
            "tim.belden@enron.com\n",
            "mark.taylor@enron.com\n"
          ],
          "name": "stdout"
        }
      ]
    },
    {
      "cell_type": "markdown",
      "metadata": {
        "id": "U7efk4ElxTDr"
      },
      "source": [
        "Tana Jones: N/A\n",
        "\n",
        "Steven Kean: Vice President - Vice President & Chief of Staff\n",
        "\n",
        "Louise Kitchen: President  -  Enron Online\n",
        "\n",
        "Richard Shapiro: Vice President  -   Regulatory Affairs\n",
        "\n",
        "Michelle Cash: N/A\n",
        "\n",
        "Kay Mann: Employee\n",
        "\n",
        "Mark Haedicke: Managing Director  Legal Department\n",
        "\n",
        "Susan Scott: N/A\n",
        "\n",
        "Tim Belden:\n",
        "\n",
        "Mark Taylor: Employee"
      ]
    },
    {
      "cell_type": "markdown",
      "metadata": {
        "id": "u0iJlsCzBCQn"
      },
      "source": [
        "#Score et rang de Kenneth Lay"
      ]
    },
    {
      "cell_type": "code",
      "metadata": {
        "colab": {
          "base_uri": "https://localhost:8080/"
        },
        "id": "yVaaT21L82ol",
        "outputId": "9be13538-8e70-4c28-ec2c-2cf76518ade7"
      },
      "source": [
        "score_kenneth_Lay=dic[index['kenneth.lay@enron.com']]\n",
        "print(\"le score de Kenneth Lay est {}\".format(score_kenneth_Lay))"
      ],
      "execution_count": null,
      "outputs": [
        {
          "output_type": "stream",
          "text": [
            "le score de Kenneth Lay est 0.00043\n"
          ],
          "name": "stdout"
        }
      ]
    },
    {
      "cell_type": "code",
      "metadata": {
        "colab": {
          "base_uri": "https://localhost:8080/"
        },
        "id": "f0cQVSnH0uuz",
        "outputId": "6f9a8834-03e9-4087-d101-34a8a4886a0d"
      },
      "source": [
        "index['kenneth.lay@enron.com']"
      ],
      "execution_count": null,
      "outputs": [
        {
          "output_type": "execute_result",
          "data": {
            "text/plain": [
              "1191"
            ]
          },
          "metadata": {
            "tags": []
          },
          "execution_count": 439
        }
      ]
    },
    {
      "cell_type": "code",
      "metadata": {
        "colab": {
          "base_uri": "https://localhost:8080/"
        },
        "id": "ep2W-zHL7AfY",
        "outputId": "68cd02fb-d98e-4f13-9034-910d082b245e"
      },
      "source": [
        "index_kenneth_Lay=[dic_sorted.index(tupl) for tupl in dic_sorted if tupl[0] ==index['kenneth.lay@enron.com']]\n",
        "rang_kenneth_Lay=index_kenneth_Lay[0]+1\n",
        "print(\"le rang de Kenneth Lay est {}\".format(rang_kenneth_Lay))"
      ],
      "execution_count": null,
      "outputs": [
        {
          "output_type": "stream",
          "text": [
            "le rang de Kenneth Lay est 1132\n"
          ],
          "name": "stdout"
        }
      ]
    }
  ]
}