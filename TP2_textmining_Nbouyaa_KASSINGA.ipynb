{
  "nbformat": 4,
  "nbformat_minor": 0,
  "metadata": {
    "kernelspec": {
      "display_name": "Python 3",
      "language": "python",
      "name": "python3"
    },
    "language_info": {
      "codemirror_mode": {
        "name": "ipython",
        "version": 3
      },
      "file_extension": ".py",
      "mimetype": "text/x-python",
      "name": "python",
      "nbconvert_exporter": "python",
      "pygments_lexer": "ipython3",
      "version": "3.7.3"
    },
    "colab": {
      "name": "TP2_textmining_Nbouyaa_KASSINGA.ipynb",
      "provenance": [],
      "collapsed_sections": [],
      "toc_visible": true
    }
  },
  "cells": [
    {
      "cell_type": "markdown",
      "metadata": {
        "id": "pPakB_m6c_D-"
      },
      "source": [
        "# Moteur de recherche"
      ]
    },
    {
      "cell_type": "markdown",
      "metadata": {
        "id": "HmH5lWtWc_EH"
      },
      "source": [
        "Le but de ce TD est de développer un moteur de recherche  dans une base de textes. Nous utilisons une base constitués d'un peu plus de 11.000 messages postés sur des forums de discussion (anglophones), fréquemment utilisée en analyse des données.\n",
        "\n",
        "Il s'agit de la base http://scikit-learn.org/stable/datasets/twenty_newsgroups.html\n",
        "\n",
        "Le TD est constitué de plusieurs exercices ainsi que d'un problème. Les principales opérations sont réalisées à l'aide de la librairie ``scikit-learn``.\n",
        "  * indexation des fichiers et des termes\n",
        "  * génération une matrice creuse comptant les fréquences d'occurrence des termes\n",
        "  * vectorisation des messages et des requêtes\n",
        "  * fichier inverse\n",
        "  * calcul de similarité et tri de la liste des réponses \n"
      ]
    },
    {
      "cell_type": "markdown",
      "metadata": {
        "id": "Zks6RdLJc_EI"
      },
      "source": [
        "Voir : http://scikit-learn.org/stable/modules/feature_extraction.html"
      ]
    },
    {
      "cell_type": "markdown",
      "metadata": {
        "id": "w88w74Ogc_EJ"
      },
      "source": [
        "# Importation des librairies mathématiques"
      ]
    },
    {
      "cell_type": "code",
      "metadata": {
        "id": "fhPAiyl-c_EJ"
      },
      "source": [
        "import numpy as np\n",
        "import scipy.sparse as sp\n",
        "from pprint import pprint\n",
        "\n",
        "from sklearn.datasets import fetch_20newsgroups\n",
        "from sklearn.feature_extraction.text import CountVectorizer\n",
        "from sklearn.feature_extraction.text import TfidfTransformer\n"
      ],
      "execution_count": null,
      "outputs": []
    },
    {
      "cell_type": "markdown",
      "metadata": {
        "id": "7-FAp6w9c_EK"
      },
      "source": [
        "# Téléchargement des données"
      ]
    },
    {
      "cell_type": "code",
      "metadata": {
        "colab": {
          "base_uri": "https://localhost:8080/"
        },
        "id": "bpa4TbNAc_EK",
        "outputId": "ad4f14dd-b0bb-47dd-f613-f22d3da39d7f"
      },
      "source": [
        "newsgroups_train = fetch_20newsgroups(subset='train',remove=('headers', 'footers', 'quotes'))"
      ],
      "execution_count": null,
      "outputs": [
        {
          "output_type": "stream",
          "text": [
            "Downloading 20news dataset. This may take a few minutes.\n",
            "Downloading dataset from https://ndownloader.figshare.com/files/5975967 (14 MB)\n"
          ],
          "name": "stderr"
        }
      ]
    },
    {
      "cell_type": "code",
      "metadata": {
        "colab": {
          "base_uri": "https://localhost:8080/"
        },
        "id": "L7SC7r4cDvY7",
        "outputId": "614c92ed-556d-4c06-a205-f28c8f609b88"
      },
      "source": [
        "type(newsgroups_train)"
      ],
      "execution_count": null,
      "outputs": [
        {
          "output_type": "execute_result",
          "data": {
            "text/plain": [
              "sklearn.utils.Bunch"
            ]
          },
          "metadata": {
            "tags": []
          },
          "execution_count": 49
        }
      ]
    },
    {
      "cell_type": "markdown",
      "metadata": {
        "id": "PHV7QZFPc_EL"
      },
      "source": [
        "### Nombre de fichiers"
      ]
    },
    {
      "cell_type": "code",
      "metadata": {
        "colab": {
          "base_uri": "https://localhost:8080/"
        },
        "id": "WkmSrLhhc_EL",
        "outputId": "232d96a1-e442-4ffc-dbb7-486531dbb89a"
      },
      "source": [
        "newsgroups_train.filenames"
      ],
      "execution_count": null,
      "outputs": [
        {
          "output_type": "execute_result",
          "data": {
            "text/plain": [
              "array(['/root/scikit_learn_data/20news_home/20news-bydate-train/rec.autos/102994',\n",
              "       '/root/scikit_learn_data/20news_home/20news-bydate-train/comp.sys.mac.hardware/51861',\n",
              "       '/root/scikit_learn_data/20news_home/20news-bydate-train/comp.sys.mac.hardware/51879',\n",
              "       ...,\n",
              "       '/root/scikit_learn_data/20news_home/20news-bydate-train/comp.sys.ibm.pc.hardware/60695',\n",
              "       '/root/scikit_learn_data/20news_home/20news-bydate-train/comp.graphics/38319',\n",
              "       '/root/scikit_learn_data/20news_home/20news-bydate-train/rec.motorcycles/104440'],\n",
              "      dtype='<U86')"
            ]
          },
          "metadata": {
            "tags": []
          },
          "execution_count": 3
        }
      ]
    },
    {
      "cell_type": "code",
      "metadata": {
        "colab": {
          "base_uri": "https://localhost:8080/"
        },
        "id": "0lGdYmPsc_EM",
        "outputId": "80f8954c-1d7f-4ffe-8c11-b5efc2668d2e"
      },
      "source": [
        "newsgroups_train.filenames.shape"
      ],
      "execution_count": null,
      "outputs": [
        {
          "output_type": "execute_result",
          "data": {
            "text/plain": [
              "(11314,)"
            ]
          },
          "metadata": {
            "tags": []
          },
          "execution_count": 4
        }
      ]
    },
    {
      "cell_type": "markdown",
      "metadata": {
        "id": "nzna905Xc_EM"
      },
      "source": [
        "### Noms des fichiers"
      ]
    },
    {
      "cell_type": "code",
      "metadata": {
        "colab": {
          "base_uri": "https://localhost:8080/"
        },
        "id": "JYs8FAfcc_EM",
        "outputId": "0a06eeb8-1e7f-40dc-e6e5-3416572f8f0d"
      },
      "source": [
        "print(newsgroups_train.filenames[0])"
      ],
      "execution_count": null,
      "outputs": [
        {
          "output_type": "stream",
          "text": [
            "/root/scikit_learn_data/20news_home/20news-bydate-train/rec.autos/102994\n"
          ],
          "name": "stdout"
        }
      ]
    },
    {
      "cell_type": "markdown",
      "metadata": {
        "id": "EJEs9nUVc_EM"
      },
      "source": [
        "### Affichage du premier message"
      ]
    },
    {
      "cell_type": "code",
      "metadata": {
        "colab": {
          "base_uri": "https://localhost:8080/"
        },
        "id": "9XbyQTNpc_EN",
        "outputId": "205e9282-6ef7-4c8a-a8be-621688c100d2"
      },
      "source": [
        "print(newsgroups_train.data[0])"
      ],
      "execution_count": null,
      "outputs": [
        {
          "output_type": "stream",
          "text": [
            "I was wondering if anyone out there could enlighten me on this car I saw\n",
            "the other day. It was a 2-door sports car, looked to be from the late 60s/\n",
            "early 70s. It was called a Bricklin. The doors were really small. In addition,\n",
            "the front bumper was separate from the rest of the body. This is \n",
            "all I know. If anyone can tellme a model name, engine specs, years\n",
            "of production, where this car is made, history, or whatever info you\n",
            "have on this funky looking car, please e-mail.\n"
          ],
          "name": "stdout"
        }
      ]
    },
    {
      "cell_type": "markdown",
      "metadata": {
        "id": "9xq4k6ezc_EN"
      },
      "source": [
        "### Catégorie du premier message"
      ]
    },
    {
      "cell_type": "code",
      "metadata": {
        "colab": {
          "base_uri": "https://localhost:8080/"
        },
        "id": "Argtxx_Zc_EN",
        "outputId": "509540e4-d5c7-4526-e0bc-d670838b1408"
      },
      "source": [
        "print(newsgroups_train.target[0])"
      ],
      "execution_count": null,
      "outputs": [
        {
          "output_type": "stream",
          "text": [
            "7\n"
          ],
          "name": "stdout"
        }
      ]
    },
    {
      "cell_type": "code",
      "metadata": {
        "colab": {
          "base_uri": "https://localhost:8080/"
        },
        "id": "rsiuIv2Pc_EO",
        "outputId": "a1ecf6db-d4ee-4409-d5a3-9659fdae56e0"
      },
      "source": [
        "print(newsgroups_train.target_names[7])"
      ],
      "execution_count": null,
      "outputs": [
        {
          "output_type": "stream",
          "text": [
            "rec.autos\n"
          ],
          "name": "stdout"
        }
      ]
    },
    {
      "cell_type": "markdown",
      "metadata": {
        "id": "EgaCmALac_EO"
      },
      "source": [
        "### Liste des catégories"
      ]
    },
    {
      "cell_type": "code",
      "metadata": {
        "colab": {
          "base_uri": "https://localhost:8080/"
        },
        "id": "n8yrFarzc_EO",
        "outputId": "aa6e32b5-3924-4cff-d2c4-e29cb0dde949"
      },
      "source": [
        "print(newsgroups_train.target_names)"
      ],
      "execution_count": null,
      "outputs": [
        {
          "output_type": "stream",
          "text": [
            "['alt.atheism', 'comp.graphics', 'comp.os.ms-windows.misc', 'comp.sys.ibm.pc.hardware', 'comp.sys.mac.hardware', 'comp.windows.x', 'misc.forsale', 'rec.autos', 'rec.motorcycles', 'rec.sport.baseball', 'rec.sport.hockey', 'sci.crypt', 'sci.electronics', 'sci.med', 'sci.space', 'soc.religion.christian', 'talk.politics.guns', 'talk.politics.mideast', 'talk.politics.misc', 'talk.religion.misc']\n"
          ],
          "name": "stdout"
        }
      ]
    },
    {
      "cell_type": "markdown",
      "metadata": {
        "id": "pe0RD49nc_EP"
      },
      "source": [
        "# 2. Vectorisation (comptage de termes)"
      ]
    },
    {
      "cell_type": "markdown",
      "metadata": {
        "id": "fgtlmWrgc_EP"
      },
      "source": [
        "### Corpus"
      ]
    },
    {
      "cell_type": "code",
      "metadata": {
        "id": "hBev31-uc_EP"
      },
      "source": [
        "corpus = newsgroups_train.data"
      ],
      "execution_count": null,
      "outputs": []
    },
    {
      "cell_type": "code",
      "metadata": {
        "colab": {
          "base_uri": "https://localhost:8080/"
        },
        "id": "WB3vxp8-c_EP",
        "outputId": "ae26c28e-3a7b-469a-f0a3-b6ee6b49e18a"
      },
      "source": [
        "len(corpus)"
      ],
      "execution_count": null,
      "outputs": [
        {
          "output_type": "execute_result",
          "data": {
            "text/plain": [
              "11314"
            ]
          },
          "metadata": {
            "tags": []
          },
          "execution_count": 12
        }
      ]
    },
    {
      "cell_type": "markdown",
      "metadata": {
        "id": "ym5W5oaAc_EQ"
      },
      "source": [
        "### Vectoriseur"
      ]
    },
    {
      "cell_type": "code",
      "metadata": {
        "id": "5xKDKVRoc_EQ"
      },
      "source": [
        "vectoriseur = CountVectorizer()"
      ],
      "execution_count": null,
      "outputs": []
    },
    {
      "cell_type": "markdown",
      "metadata": {
        "id": "7J9onja0c_EQ"
      },
      "source": [
        "### Analyse"
      ]
    },
    {
      "cell_type": "code",
      "metadata": {
        "colab": {
          "base_uri": "https://localhost:8080/"
        },
        "id": "d3xjVyNOc_EQ",
        "outputId": "21de2d2f-58bd-49ca-8835-8d3519ab851e"
      },
      "source": [
        "vectoriseur.fit(corpus)"
      ],
      "execution_count": null,
      "outputs": [
        {
          "output_type": "execute_result",
          "data": {
            "text/plain": [
              "CountVectorizer(analyzer='word', binary=False, decode_error='strict',\n",
              "                dtype=<class 'numpy.int64'>, encoding='utf-8', input='content',\n",
              "                lowercase=True, max_df=1.0, max_features=None, min_df=1,\n",
              "                ngram_range=(1, 1), preprocessor=None, stop_words=None,\n",
              "                strip_accents=None, token_pattern='(?u)\\\\b\\\\w\\\\w+\\\\b',\n",
              "                tokenizer=None, vocabulary=None)"
            ]
          },
          "metadata": {
            "tags": []
          },
          "execution_count": 14
        }
      ]
    },
    {
      "cell_type": "markdown",
      "metadata": {
        "id": "Wk-Lgh_yc_ER"
      },
      "source": [
        "### Dictionnaire des indices"
      ]
    },
    {
      "cell_type": "code",
      "metadata": {
        "id": "jpT_MHx-c_ER"
      },
      "source": [
        "indice = vectoriseur.vocabulary_"
      ],
      "execution_count": null,
      "outputs": []
    },
    {
      "cell_type": "code",
      "metadata": {
        "colab": {
          "base_uri": "https://localhost:8080/"
        },
        "id": "FIB26oV-HGgF",
        "outputId": "c2d662ac-44f4-4c05-f310-24dde1b79c83"
      },
      "source": [
        "len(indice)"
      ],
      "execution_count": null,
      "outputs": [
        {
          "output_type": "execute_result",
          "data": {
            "text/plain": [
              "101631"
            ]
          },
          "metadata": {
            "tags": []
          },
          "execution_count": 53
        }
      ]
    },
    {
      "cell_type": "code",
      "metadata": {
        "colab": {
          "base_uri": "https://localhost:8080/"
        },
        "id": "W1dpvUkxc_ER",
        "outputId": "c3222e73-ddeb-4792-ca99-09f0cb3427e6"
      },
      "source": [
        "indice['car']"
      ],
      "execution_count": null,
      "outputs": [
        {
          "output_type": "execute_result",
          "data": {
            "text/plain": [
              "25775"
            ]
          },
          "metadata": {
            "tags": []
          },
          "execution_count": 16
        }
      ]
    },
    {
      "cell_type": "markdown",
      "metadata": {
        "id": "cp3PJW2Zc_ER"
      },
      "source": [
        "### Liste des termes"
      ]
    },
    {
      "cell_type": "code",
      "metadata": {
        "id": "cC1qeFyNc_ER"
      },
      "source": [
        "terme = vectoriseur.get_feature_names()"
      ],
      "execution_count": null,
      "outputs": []
    },
    {
      "cell_type": "code",
      "metadata": {
        "colab": {
          "base_uri": "https://localhost:8080/",
          "height": 35
        },
        "id": "Nrrl4A4yc_ES",
        "outputId": "baba0217-9409-4c95-80c3-2fc8ac69e887"
      },
      "source": [
        "terme[25775]"
      ],
      "execution_count": null,
      "outputs": [
        {
          "output_type": "execute_result",
          "data": {
            "application/vnd.google.colaboratory.intrinsic+json": {
              "type": "string"
            },
            "text/plain": [
              "'car'"
            ]
          },
          "metadata": {
            "tags": []
          },
          "execution_count": 132
        }
      ]
    },
    {
      "cell_type": "markdown",
      "metadata": {
        "id": "BtnFOS0Pc_ES"
      },
      "source": [
        "## <font color='purple'>Exercice 1\n",
        "\n",
        "<font color='purple'>\n",
        "Afficher les 10 termes qui suivent le terme 'home' ainsi que ceux qui suivent le terme 'car' dans la liste de vocabulaire.\n",
        "</font>"
      ]
    },
    {
      "cell_type": "code",
      "metadata": {
        "colab": {
          "base_uri": "https://localhost:8080/"
        },
        "id": "Qm-xrasVc_ES",
        "outputId": "30782e88-3565-4be5-e528-fac4af3a1033"
      },
      "source": [
        "print(terme[indice['home']:(indice['home']+11)])\n",
        "print(terme[indice['car']:(indice['car']+11)])"
      ],
      "execution_count": null,
      "outputs": [
        {
          "output_type": "stream",
          "text": [
            "['home', 'homeboy', 'homeboys', 'homebrew', 'homecoming', 'homeland', 'homelands', 'homeless', 'homelessness', 'homemade', 'homeo']\n",
            "['car', 'car377', 'caraballo', 'caramate', 'caramel', 'caramelizing', 'caramete', 'caratzas', 'caravan', 'caravans', 'caray']\n"
          ],
          "name": "stdout"
        }
      ]
    },
    {
      "cell_type": "markdown",
      "metadata": {
        "id": "eOJJzbKpc_ES"
      },
      "source": [
        "### Transformation texte vers vecteur (matrice creuse)"
      ]
    },
    {
      "cell_type": "code",
      "metadata": {
        "id": "HlGyBGdXc_ET"
      },
      "source": [
        "texte = [corpus[0]]"
      ],
      "execution_count": null,
      "outputs": []
    },
    {
      "cell_type": "code",
      "metadata": {
        "colab": {
          "base_uri": "https://localhost:8080/"
        },
        "id": "Zcssuvz2c_ET",
        "outputId": "67bd6cd9-5e90-4cd7-ede3-a4a127bcc899"
      },
      "source": [
        "print(texte)"
      ],
      "execution_count": null,
      "outputs": [
        {
          "output_type": "stream",
          "text": [
            "['I was wondering if anyone out there could enlighten me on this car I saw\\nthe other day. It was a 2-door sports car, looked to be from the late 60s/\\nearly 70s. It was called a Bricklin. The doors were really small. In addition,\\nthe front bumper was separate from the rest of the body. This is \\nall I know. If anyone can tellme a model name, engine specs, years\\nof production, where this car is made, history, or whatever info you\\nhave on this funky looking car, please e-mail.']\n"
          ],
          "name": "stdout"
        }
      ]
    },
    {
      "cell_type": "code",
      "metadata": {
        "id": "_NEK0lrYc_ET"
      },
      "source": [
        "vect = vectoriseur.transform(texte)"
      ],
      "execution_count": null,
      "outputs": []
    },
    {
      "cell_type": "code",
      "metadata": {
        "colab": {
          "base_uri": "https://localhost:8080/"
        },
        "id": "zHtgCJkyc_ET",
        "outputId": "c22aa6ca-5db2-473f-ad31-ee87591e59ff"
      },
      "source": [
        "print(vect)"
      ],
      "execution_count": null,
      "outputs": [
        {
          "output_type": "stream",
          "text": [
            "  (0, 9843)\t1\n",
            "  (0, 11174)\t1\n",
            "  (0, 16809)\t1\n",
            "  (0, 17936)\t1\n",
            "  (0, 18915)\t2\n",
            "  (0, 21987)\t1\n",
            "  (0, 23480)\t1\n",
            "  (0, 24160)\t1\n",
            "  (0, 24635)\t1\n",
            "  (0, 25492)\t1\n",
            "  (0, 25590)\t1\n",
            "  (0, 25775)\t4\n",
            "  (0, 30074)\t1\n",
            "  (0, 31990)\t1\n",
            "  (0, 34809)\t1\n",
            "  (0, 34810)\t1\n",
            "  (0, 35974)\t1\n",
            "  (0, 37287)\t1\n",
            "  (0, 37335)\t1\n",
            "  (0, 41715)\t2\n",
            "  (0, 41724)\t1\n",
            "  (0, 41979)\t1\n",
            "  (0, 45885)\t1\n",
            "  (0, 46814)\t1\n",
            "  (0, 48754)\t2\n",
            "  :\t:\n",
            "  (0, 68080)\t2\n",
            "  (0, 68409)\t1\n",
            "  (0, 68781)\t1\n",
            "  (0, 68847)\t1\n",
            "  (0, 71850)\t1\n",
            "  (0, 73373)\t1\n",
            "  (0, 76471)\t1\n",
            "  (0, 77878)\t1\n",
            "  (0, 80623)\t1\n",
            "  (0, 81658)\t1\n",
            "  (0, 83426)\t1\n",
            "  (0, 84276)\t1\n",
            "  (0, 84538)\t1\n",
            "  (0, 88143)\t1\n",
            "  (0, 88532)\t6\n",
            "  (0, 88638)\t1\n",
            "  (0, 88767)\t4\n",
            "  (0, 89360)\t1\n",
            "  (0, 95844)\t4\n",
            "  (0, 96247)\t1\n",
            "  (0, 96395)\t1\n",
            "  (0, 96433)\t1\n",
            "  (0, 97181)\t1\n",
            "  (0, 99911)\t1\n",
            "  (0, 100208)\t1\n"
          ],
          "name": "stdout"
        }
      ]
    },
    {
      "cell_type": "code",
      "metadata": {
        "id": "CFFdJGZBc_ET"
      },
      "source": [
        "vue = sp.find(vect)"
      ],
      "execution_count": null,
      "outputs": []
    },
    {
      "cell_type": "code",
      "metadata": {
        "colab": {
          "base_uri": "https://localhost:8080/"
        },
        "id": "W3Pdfzc6AC1P",
        "outputId": "687b7539-7595-4117-8535-66da0f0bf16e"
      },
      "source": [
        "vue[2].tolist().index(max(vue[2]))"
      ],
      "execution_count": null,
      "outputs": [
        {
          "output_type": "execute_result",
          "data": {
            "text/plain": [
              "53"
            ]
          },
          "metadata": {
            "tags": []
          },
          "execution_count": 47
        }
      ]
    },
    {
      "cell_type": "code",
      "metadata": {
        "colab": {
          "base_uri": "https://localhost:8080/"
        },
        "id": "vn30j64Lc_EU",
        "outputId": "c8a1393b-1a37-49e9-e2b7-24961b074395"
      },
      "source": [
        "print(vue)"
      ],
      "execution_count": null,
      "outputs": [
        {
          "output_type": "stream",
          "text": [
            "(array([0, 0, 0, 0, 0, 0, 0, 0, 0, 0, 0, 0, 0, 0, 0, 0, 0, 0, 0, 0, 0, 0,\n",
            "       0, 0, 0, 0, 0, 0, 0, 0, 0, 0, 0, 0, 0, 0, 0, 0, 0, 0, 0, 0, 0, 0,\n",
            "       0, 0, 0, 0, 0, 0, 0, 0, 0, 0, 0, 0, 0, 0, 0, 0, 0, 0, 0, 0],\n",
            "      dtype=int32), array([  9843,  11174,  16809,  17936,  18915,  21987,  23480,  24160,\n",
            "        24635,  25492,  25590,  25775,  30074,  31990,  34809,  34810,\n",
            "        35974,  37287,  37335,  41715,  41724,  41979,  45885,  46814,\n",
            "        48754,  49447,  49932,  51136,  51326,  54632,  55746,  57390,\n",
            "        57393,  59079,  59216,  60560,  62746,  64931,  67670,  68080,\n",
            "        68409,  68781,  68847,  71850,  73373,  76471,  77878,  80623,\n",
            "        81658,  83426,  84276,  84538,  88143,  88532,  88638,  88767,\n",
            "        89360,  95844,  96247,  96395,  96433,  97181,  99911, 100208],\n",
            "      dtype=int32), array([1, 1, 1, 1, 2, 1, 1, 1, 1, 1, 1, 4, 1, 1, 1, 1, 1, 1, 1, 2, 1, 1,\n",
            "       1, 1, 2, 1, 1, 2, 2, 1, 1, 1, 1, 1, 1, 1, 1, 1, 2, 2, 1, 1, 1, 1,\n",
            "       1, 1, 1, 1, 1, 1, 1, 1, 1, 6, 1, 4, 1, 4, 1, 1, 1, 1, 1, 1]))\n"
          ],
          "name": "stdout"
        }
      ]
    },
    {
      "cell_type": "markdown",
      "metadata": {
        "id": "mo-6v9Xxc_EU"
      },
      "source": [
        "## <font color='purple'>Exercice 2\n",
        "\n",
        "Trouvez à partir du vecteur vue :\n",
        "  * le terme le plus fréquent dans le message\n",
        "  * le nombre d'apparitions du terme 'car' \n",
        "\n",
        "\n",
        "\n",
        "</font>"
      ]
    },
    {
      "cell_type": "code",
      "metadata": {
        "colab": {
          "base_uri": "https://localhost:8080/"
        },
        "id": "JER9lGjpc_EU",
        "outputId": "415770b3-2097-4420-fb9e-5d368e217119"
      },
      "source": [
        "#indice  du terme le plus fréquent\n",
        "vue[1].tolist()[vue[2].tolist().index(max(vue[2]))]"
      ],
      "execution_count": null,
      "outputs": [
        {
          "output_type": "execute_result",
          "data": {
            "text/plain": [
              "88532"
            ]
          },
          "metadata": {
            "tags": []
          },
          "execution_count": 50
        }
      ]
    },
    {
      "cell_type": "code",
      "metadata": {
        "colab": {
          "base_uri": "https://localhost:8080/",
          "height": 35
        },
        "id": "lfqsoaoFGMUh",
        "outputId": "ea594abc-d6c0-41df-c396-eff179592d5c"
      },
      "source": [
        "#\"recherche du terme correspondant à partir de l'indice trouvé\n",
        "terme[88532]\n",
        "terme[vue[1].tolist()[vue[2].tolist().index(max(vue[2]))]]"
      ],
      "execution_count": null,
      "outputs": [
        {
          "output_type": "execute_result",
          "data": {
            "application/vnd.google.colaboratory.intrinsic+json": {
              "type": "string"
            },
            "text/plain": [
              "'the'"
            ]
          },
          "metadata": {
            "tags": []
          },
          "execution_count": 62
        }
      ]
    },
    {
      "cell_type": "code",
      "metadata": {
        "colab": {
          "base_uri": "https://localhost:8080/"
        },
        "id": "U8r4GFlQGcuv",
        "outputId": "31df17e8-a300-405d-eb22-55e95e58ce46"
      },
      "source": [
        "#le nombre d'apparition de 'car'\n",
        "vue[2].tolist()[vue[1].tolist().index(indice['car'])]"
      ],
      "execution_count": null,
      "outputs": [
        {
          "output_type": "execute_result",
          "data": {
            "text/plain": [
              "4"
            ]
          },
          "metadata": {
            "tags": []
          },
          "execution_count": 57
        }
      ]
    },
    {
      "cell_type": "markdown",
      "metadata": {
        "id": "J5ZdLXyVc_EU"
      },
      "source": [
        "### Vectorisation du corpus complet"
      ]
    },
    {
      "cell_type": "code",
      "metadata": {
        "id": "SI0DIfhdc_EU"
      },
      "source": [
        "X_comptage = vectoriseur.transform(corpus)"
      ],
      "execution_count": null,
      "outputs": []
    },
    {
      "cell_type": "code",
      "metadata": {
        "colab": {
          "base_uri": "https://localhost:8080/"
        },
        "id": "7k-8oeGbc_EV",
        "outputId": "43249f2d-53e3-4d28-dbb3-11b07e7b0c83"
      },
      "source": [
        "print(X_comptage)"
      ],
      "execution_count": null,
      "outputs": [
        {
          "output_type": "stream",
          "text": [
            "  (0, 9843)\t1\n",
            "  (0, 11174)\t1\n",
            "  (0, 16809)\t1\n",
            "  (0, 17936)\t1\n",
            "  (0, 18915)\t2\n",
            "  (0, 21987)\t1\n",
            "  (0, 23480)\t1\n",
            "  (0, 24160)\t1\n",
            "  (0, 24635)\t1\n",
            "  (0, 25492)\t1\n",
            "  (0, 25590)\t1\n",
            "  (0, 25775)\t4\n",
            "  (0, 30074)\t1\n",
            "  (0, 31990)\t1\n",
            "  (0, 34809)\t1\n",
            "  (0, 34810)\t1\n",
            "  (0, 35974)\t1\n",
            "  (0, 37287)\t1\n",
            "  (0, 37335)\t1\n",
            "  (0, 41715)\t2\n",
            "  (0, 41724)\t1\n",
            "  (0, 41979)\t1\n",
            "  (0, 45885)\t1\n",
            "  (0, 46814)\t1\n",
            "  (0, 48754)\t2\n",
            "  :\t:\n",
            "  (11313, 57131)\t1\n",
            "  (11313, 60560)\t1\n",
            "  (11313, 61975)\t1\n",
            "  (11313, 62086)\t1\n",
            "  (11313, 64435)\t1\n",
            "  (11313, 66242)\t1\n",
            "  (11313, 66857)\t2\n",
            "  (11313, 68080)\t1\n",
            "  (11313, 68409)\t1\n",
            "  (11313, 68997)\t1\n",
            "  (11313, 70066)\t1\n",
            "  (11313, 71786)\t1\n",
            "  (11313, 71992)\t1\n",
            "  (11313, 78365)\t1\n",
            "  (11313, 81742)\t1\n",
            "  (11313, 81792)\t1\n",
            "  (11313, 82660)\t1\n",
            "  (11313, 84605)\t1\n",
            "  (11313, 85524)\t1\n",
            "  (11313, 87730)\t1\n",
            "  (11313, 89465)\t1\n",
            "  (11313, 89804)\t1\n",
            "  (11313, 90644)\t1\n",
            "  (11313, 96497)\t1\n",
            "  (11313, 96707)\t1\n"
          ],
          "name": "stdout"
        }
      ]
    },
    {
      "cell_type": "markdown",
      "metadata": {
        "id": "CqzaX2-bc_EV"
      },
      "source": [
        "X est une matrice creuse contenant 11314 lignes, chaque ligne correspondant à un vecteur texte"
      ]
    },
    {
      "cell_type": "markdown",
      "metadata": {
        "id": "dsfNJtv1c_EV"
      },
      "source": [
        "## <font color='purple'>Exercice 3\n",
        "\n",
        "<font color='purple'>\n",
        "Combien de textes contiennent le terme 'home'? en deduire le score 'term frequency'\n",
        "</font>"
      ]
    },
    {
      "cell_type": "code",
      "metadata": {
        "colab": {
          "base_uri": "https://localhost:8080/"
        },
        "id": "qcMfq_QDQWxv",
        "outputId": "f56518fa-fa35-48fe-95be-373cd5c07ac4"
      },
      "source": [
        "i=indice['home']\n",
        "Col=X_comptage.getcol(i)\n",
        "L=Col.nonzero()\n",
        "d=len(L[0])\n",
        "d"
      ],
      "execution_count": null,
      "outputs": [
        {
          "output_type": "execute_result",
          "data": {
            "text/plain": [
              "352"
            ]
          },
          "metadata": {
            "tags": []
          },
          "execution_count": 92
        }
      ]
    },
    {
      "cell_type": "code",
      "metadata": {
        "colab": {
          "base_uri": "https://localhost:8080/"
        },
        "id": "esENfkDyc_EV",
        "outputId": "2bfb5481-ccce-416f-8038-2c2c3dcf7f30"
      },
      "source": [
        "print(\"le score term frequency du mot home est {}\".format(d/11314))"
      ],
      "execution_count": null,
      "outputs": [
        {
          "output_type": "stream",
          "text": [
            "le score term requency du mot home est 0.031111896765069823\n"
          ],
          "name": "stdout"
        }
      ]
    },
    {
      "cell_type": "markdown",
      "metadata": {
        "id": "xf0M3l68c_EV"
      },
      "source": [
        "## <font color='purple'>Exercice 4\n",
        "\n",
        "<font color='purple'>\n",
        "Affichez un message du corpus contenant le terme 'platypus'\n",
        "</font>"
      ]
    },
    {
      "cell_type": "code",
      "metadata": {
        "colab": {
          "base_uri": "https://localhost:8080/",
          "height": 105
        },
        "id": "FeaCPiMOT-vd",
        "outputId": "c7bf828f-20bc-4a64-b7af-c8c3c704c6e6"
      },
      "source": [
        "corpus[1]"
      ],
      "execution_count": null,
      "outputs": [
        {
          "output_type": "execute_result",
          "data": {
            "application/vnd.google.colaboratory.intrinsic+json": {
              "type": "string"
            },
            "text/plain": [
              "\"A fair number of brave souls who upgraded their SI clock oscillator have\\nshared their experiences for this poll. Please send a brief message detailing\\nyour experiences with the procedure. Top speed attained, CPU rated speed,\\nadd on cards and adapters, heat sinks, hour of usage per day, floppy disk\\nfunctionality with 800 and 1.4 m floppies are especially requested.\\n\\nI will be summarizing in the next two days, so please add to the network\\nknowledge base if you have done the clock upgrade and haven't answered this\\npoll. Thanks.\""
            ]
          },
          "metadata": {
            "tags": []
          },
          "execution_count": 101
        }
      ]
    },
    {
      "cell_type": "code",
      "metadata": {
        "colab": {
          "base_uri": "https://localhost:8080/",
          "height": 191
        },
        "id": "FJIF51_Nc_EW",
        "outputId": "ae2b4eed-be1f-4dbf-819b-1b224c048656"
      },
      "source": [
        "i=indice['platypus']\n",
        "Col=X_comptage.getcol(i)\n",
        "L=Col.nonzero()\n",
        "corpus[L[0].tolist()[0]]"
      ],
      "execution_count": null,
      "outputs": [
        {
          "output_type": "execute_result",
          "data": {
            "application/vnd.google.colaboratory.intrinsic+json": {
              "type": "string"
            },
            "text/plain": [
              "'\\n\\nSee, there you go again, saying that a moral act is only significant\\nif it is \"voluntary.\"  Why do you think this?\\n\\nAnd anyway, humans have the ability to disregard some of their instincts.\\n\\n\\nYou are attaching too many things to the term \"moral,\" I think.\\nLet\\'s try this:  is it \"good\" that animals of the same species\\ndon\\'t kill each other.  Or, do you think this is right? \\n\\nOr do you think that animals are machines, and that nothing they do\\nis either right nor wrong?\\n\\n\\n\\nThose weren\\'t arbitrary killings.  They were slayings related to some sort\\nof mating ritual or whatnot.\\n\\n\\nYes it was, but I still don\\'t understand your distinctions.  What\\ndo you mean by \"consider?\"  Can a small child be moral?  How about\\na gorilla?  A dolphin?  A platypus?  Where is the line drawn?  Does\\nthe being need to be self aware?\\n\\nWhat *do* you call the mechanism which seems to prevent animals of\\nthe same species from (arbitrarily) killing each other?  Don\\'t\\nyou find the fact that they don\\'t at all significant?'"
            ]
          },
          "metadata": {
            "tags": []
          },
          "execution_count": 103
        }
      ]
    },
    {
      "cell_type": "markdown",
      "metadata": {
        "id": "xiPTByRFc_EW"
      },
      "source": [
        "## <font color='purple'>Exercice 5\n",
        "\n",
        "<font color='purple'>\n",
        "Vectorisez maintenant un texte anglophone de votre choix et affichez le vecteur résultant</font>"
      ]
    },
    {
      "cell_type": "code",
      "metadata": {
        "colab": {
          "base_uri": "https://localhost:8080/"
        },
        "id": "WAcg6gDGc_EW",
        "outputId": "51ec3eec-9a22-4837-983b-12da38d85a58"
      },
      "source": [
        "from google.colab import drive\n",
        "drive.mount('/content/drive')"
      ],
      "execution_count": null,
      "outputs": [
        {
          "output_type": "stream",
          "text": [
            "Mounted at /content/drive\n"
          ],
          "name": "stdout"
        }
      ]
    },
    {
      "cell_type": "code",
      "metadata": {
        "id": "LCDNEJx_U8qW"
      },
      "source": [
        "Doc = open('/content/drive/MyDrive/Text mining/pg2701.txt', 'r')\n",
        "texte1 = Doc.read()"
      ],
      "execution_count": null,
      "outputs": []
    },
    {
      "cell_type": "code",
      "metadata": {
        "id": "sQ866e8ZV3YJ"
      },
      "source": [
        "L=[]\n",
        "L.append(texte1)"
      ],
      "execution_count": null,
      "outputs": []
    },
    {
      "cell_type": "code",
      "metadata": {
        "colab": {
          "base_uri": "https://localhost:8080/"
        },
        "id": "8X-siC1qVR-S",
        "outputId": "a5ae835c-25eb-4ecb-ba88-12a24eafa202"
      },
      "source": [
        "X_comptage1 = vectoriseur.transform(L)\n",
        "print(X_comptage1)"
      ],
      "execution_count": null,
      "outputs": [
        {
          "output_type": "stream",
          "text": [
            "  (0, 1)\t21\n",
            "  (0, 1469)\t4\n",
            "  (0, 1470)\t1\n",
            "  (0, 1622)\t1\n",
            "  (0, 1708)\t1\n",
            "  (0, 1748)\t1\n",
            "  (0, 1769)\t1\n",
            "  (0, 1786)\t1\n",
            "  (0, 1807)\t1\n",
            "  (0, 1821)\t1\n",
            "  (0, 1833)\t1\n",
            "  (0, 1846)\t1\n",
            "  (0, 1912)\t1\n",
            "  (0, 1913)\t1\n",
            "  (0, 1996)\t1\n",
            "  (0, 2073)\t1\n",
            "  (0, 2086)\t1\n",
            "  (0, 2107)\t1\n",
            "  (0, 2124)\t1\n",
            "  (0, 2142)\t1\n",
            "  (0, 2157)\t1\n",
            "  (0, 2178)\t1\n",
            "  (0, 2194)\t1\n",
            "  (0, 2222)\t1\n",
            "  (0, 2223)\t1\n",
            "  :\t:\n",
            "  (0, 100049)\t3\n",
            "  (0, 100185)\t3\n",
            "  (0, 100186)\t4\n",
            "  (0, 100187)\t1\n",
            "  (0, 100195)\t2\n",
            "  (0, 100197)\t6\n",
            "  (0, 100208)\t963\n",
            "  (0, 100212)\t80\n",
            "  (0, 100214)\t2\n",
            "  (0, 100215)\t1\n",
            "  (0, 100216)\t1\n",
            "  (0, 100221)\t258\n",
            "  (0, 100231)\t9\n",
            "  (0, 100233)\t26\n",
            "  (0, 100235)\t7\n",
            "  (0, 100239)\t9\n",
            "  (0, 100893)\t2\n",
            "  (0, 100894)\t7\n",
            "  (0, 100928)\t1\n",
            "  (0, 101025)\t1\n",
            "  (0, 101058)\t1\n",
            "  (0, 101277)\t5\n",
            "  (0, 101278)\t3\n",
            "  (0, 101285)\t2\n",
            "  (0, 101297)\t1\n"
          ],
          "name": "stdout"
        }
      ]
    },
    {
      "cell_type": "markdown",
      "metadata": {
        "id": "t5ihtYxSc_EW"
      },
      "source": [
        "# 3. Transformation TF-IDF"
      ]
    },
    {
      "cell_type": "code",
      "metadata": {
        "id": "6lHk1GZNc_EW"
      },
      "source": [
        "transformeur = TfidfTransformer(norm=None, smooth_idf=False)"
      ],
      "execution_count": null,
      "outputs": []
    },
    {
      "cell_type": "markdown",
      "metadata": {
        "id": "aiJjpPu-c_EX"
      },
      "source": [
        "### Calcul IDF"
      ]
    },
    {
      "cell_type": "code",
      "metadata": {
        "colab": {
          "base_uri": "https://localhost:8080/"
        },
        "id": "F536lgYtc_EX",
        "outputId": "4073cd68-3cef-44db-cb74-f1a89b1d4410"
      },
      "source": [
        "transformeur.fit(X_comptage)"
      ],
      "execution_count": null,
      "outputs": [
        {
          "output_type": "execute_result",
          "data": {
            "text/plain": [
              "TfidfTransformer(norm=None, smooth_idf=False, sublinear_tf=False, use_idf=True)"
            ]
          },
          "metadata": {
            "tags": []
          },
          "execution_count": 111
        }
      ]
    },
    {
      "cell_type": "code",
      "metadata": {
        "id": "4H_7Z0G4c_EX"
      },
      "source": [
        "idf = transformeur.idf_"
      ],
      "execution_count": null,
      "outputs": []
    },
    {
      "cell_type": "code",
      "metadata": {
        "colab": {
          "base_uri": "https://localhost:8080/"
        },
        "id": "SzDlO9bhc_EY",
        "outputId": "8a73486f-ccee-42f6-e766-0c6d3dd1667b"
      },
      "source": [
        "print(idf)"
      ],
      "execution_count": null,
      "outputs": [
        {
          "output_type": "stream",
          "text": [
            "[ 4.84073473  4.76545167  8.38788603 ... 10.33379618 10.33379618\n",
            " 10.33379618]\n"
          ],
          "name": "stdout"
        }
      ]
    },
    {
      "cell_type": "markdown",
      "metadata": {
        "id": "Z2KSZ_Kfc_EY"
      },
      "source": [
        "## <font color='purple'>Exercice 6\n",
        "\n",
        "<font color='purple'>\n",
        "Affichez le score IDF (fréquence documentaire) de 'the', 'car', 'spherical', 'platypus' </font>"
      ]
    },
    {
      "cell_type": "code",
      "metadata": {
        "colab": {
          "base_uri": "https://localhost:8080/"
        },
        "id": "X9BdjE8aXS_A",
        "outputId": "290b38c0-982e-4710-984d-cf6d8458a6b3"
      },
      "source": [
        "len(idf)"
      ],
      "execution_count": null,
      "outputs": [
        {
          "output_type": "execute_result",
          "data": {
            "text/plain": [
              "101631"
            ]
          },
          "metadata": {
            "tags": []
          },
          "execution_count": 114
        }
      ]
    },
    {
      "cell_type": "code",
      "metadata": {
        "colab": {
          "base_uri": "https://localhost:8080/"
        },
        "id": "JxzbxE47c_EY",
        "outputId": "64433296-85e6-4b5e-adf3-d888020fecbd"
      },
      "source": [
        "lis=['the', 'car', 'spherical', 'platypus']\n",
        "i_the=indice['the']\n",
        "for i in lis:\n",
        "  print(\"le score IDF de {} est {}\".format(i,idf[indice[i]]))\n"
      ],
      "execution_count": null,
      "outputs": [
        {
          "output_type": "stream",
          "text": [
            "le score IDF de the est 1.1773841459524739\n",
            "le score IDF de car est 4.35238196464862\n",
            "le score IDF de spherical est 8.031211082909056\n",
            "le score IDF de platypus est 10.333796175903101\n"
          ],
          "name": "stdout"
        }
      ]
    },
    {
      "cell_type": "markdown",
      "metadata": {
        "id": "z_LRKM7Jc_EY"
      },
      "source": [
        "### Vectorisation TF-IDF du premier message du corpus"
      ]
    },
    {
      "cell_type": "code",
      "metadata": {
        "id": "lQcldF1Oc_EY"
      },
      "source": [
        "vecteur_comptage = X_comptage[0,:]"
      ],
      "execution_count": null,
      "outputs": []
    },
    {
      "cell_type": "code",
      "metadata": {
        "id": "Cdec5EF3c_EZ"
      },
      "source": [
        "vecteur_tfidf = transformeur.transform(vecteur_comptage)"
      ],
      "execution_count": null,
      "outputs": []
    },
    {
      "cell_type": "code",
      "metadata": {
        "colab": {
          "base_uri": "https://localhost:8080/"
        },
        "id": "rmCMwvI0c_EZ",
        "outputId": "6d9f81d9-2122-4cbb-ecdf-915be75c7a71"
      },
      "source": [
        "print(vecteur_tfidf)"
      ],
      "execution_count": null,
      "outputs": [
        {
          "output_type": "stream",
          "text": [
            "  (0, 100208)\t1.790155814472015\n",
            "  (0, 99911)\t3.5192532786431427\n",
            "  (0, 97181)\t5.12431002306168\n",
            "  (0, 96433)\t3.1933431328019424\n",
            "  (0, 96395)\t4.620063370393732\n",
            "  (0, 96247)\t2.896001054231169\n",
            "  (0, 95844)\t8.969899609490763\n",
            "  (0, 89360)\t1.2901008813358654\n",
            "  (0, 88767)\t7.053765745490525\n",
            "  (0, 88638)\t2.232724672783557\n",
            "  (0, 88532)\t7.064304875714843\n",
            "  (0, 88143)\t10.333796175903101\n",
            "  (0, 84538)\t6.129103556512135\n",
            "  (0, 84276)\t6.114288470726994\n",
            "  (0, 83426)\t4.237971613470876\n",
            "  (0, 81658)\t5.466261725447518\n",
            "  (0, 80623)\t4.750299867121402\n",
            "  (0, 77878)\t4.559244630358693\n",
            "  (0, 76471)\t3.354650900834291\n",
            "  (0, 73373)\t6.04333673475471\n",
            "  (0, 71850)\t3.2758982384912447\n",
            "  (0, 68847)\t2.4962418150220165\n",
            "  (0, 68781)\t2.6722690945445837\n",
            "  (0, 68409)\t1.969288072152512\n",
            "  (0, 68080)\t3.5671102608813268\n",
            "  :\t:\n",
            "  (0, 48754)\t3.855516067706052\n",
            "  (0, 46814)\t4.67431396014348\n",
            "  (0, 45885)\t1.7702920816236132\n",
            "  (0, 41979)\t8.542036706675045\n",
            "  (0, 41724)\t4.86573603476797\n",
            "  (0, 41715)\t4.371858091958309\n",
            "  (0, 37335)\t7.768846818441564\n",
            "  (0, 37287)\t5.363982876327101\n",
            "  (0, 35974)\t4.735374216904726\n",
            "  (0, 34810)\t6.483648574193042\n",
            "  (0, 34809)\t5.554672682791572\n",
            "  (0, 31990)\t3.93353873059428\n",
            "  (0, 30074)\t2.9060573353702077\n",
            "  (0, 25775)\t17.40952785859448\n",
            "  (0, 25590)\t2.101621939519161\n",
            "  (0, 25492)\t3.9418790625104987\n",
            "  (0, 24635)\t7.38935719673666\n",
            "  (0, 24160)\t9.640648995343156\n",
            "  (0, 23480)\t4.836627950609899\n",
            "  (0, 21987)\t1.8260474433148635\n",
            "  (0, 18915)\t6.179137320599502\n",
            "  (0, 17936)\t2.2647668471281435\n",
            "  (0, 16809)\t5.26489197368287\n",
            "  (0, 11174)\t7.768846818441564\n",
            "  (0, 9843)\t7.848889526115101\n"
          ],
          "name": "stdout"
        }
      ]
    },
    {
      "cell_type": "markdown",
      "metadata": {
        "id": "NqlgnNZic_EZ"
      },
      "source": [
        "## <font color='purple'>Exercice 7\n",
        "\n",
        "<font color='purple'>\n",
        "Affichez les termes dont le score TF-IDF est superieur à 8 </font>"
      ]
    },
    {
      "cell_type": "code",
      "metadata": {
        "colab": {
          "base_uri": "https://localhost:8080/",
          "height": 35
        },
        "id": "HKs90U3uaqZj",
        "outputId": "5cd8f9bc-48e9-43c6-b9cd-3e0ea8eb20d7"
      },
      "source": [
        "terme[1293]"
      ],
      "execution_count": null,
      "outputs": [
        {
          "output_type": "execute_result",
          "data": {
            "application/vnd.google.colaboratory.intrinsic+json": {
              "type": "string"
            },
            "text/plain": [
              "'0tq33'"
            ]
          },
          "metadata": {
            "tags": []
          },
          "execution_count": 135
        }
      ]
    },
    {
      "cell_type": "code",
      "metadata": {
        "colab": {
          "base_uri": "https://localhost:8080/"
        },
        "id": "yaK0xLWHc_EZ",
        "outputId": "7bfa32dc-6e58-4671-fb44-c807baf072c3"
      },
      "source": [
        "Num=[]\n",
        "for i in range (len(idf)):\n",
        "  if idf[i]>=8:\n",
        "    Num.append(terme[i])\n",
        "Num"
      ],
      "execution_count": null,
      "outputs": [
        {
          "output_type": "execute_result",
          "data": {
            "text/plain": [
              "['0000',\n",
              " '00000',\n",
              " '000000',\n",
              " '00000000',\n",
              " '0000000004',\n",
              " '00000000b',\n",
              " '00000001',\n",
              " '00000001b',\n",
              " '00000010',\n",
              " '00000010b',\n",
              " '00000011',\n",
              " '00000011b',\n",
              " '00000074',\n",
              " '00000093',\n",
              " '000000e5',\n",
              " '00000100',\n",
              " '00000100b',\n",
              " '00000101',\n",
              " '00000101b',\n",
              " '00000110',\n",
              " '00000110b',\n",
              " '00000111',\n",
              " '00000111b',\n",
              " '000005102000',\n",
              " '00000510200001',\n",
              " '00000ee5',\n",
              " '00001000',\n",
              " '00001000b',\n",
              " '00001001',\n",
              " '00001001b',\n",
              " '00001010',\n",
              " '00001010b',\n",
              " '00001011',\n",
              " '00001011b',\n",
              " '000010af',\n",
              " '00001100',\n",
              " '00001100b',\n",
              " '00001101',\n",
              " '00001101b',\n",
              " '00001110',\n",
              " '00001110b',\n",
              " '00001111',\n",
              " '00001111b',\n",
              " '000042',\n",
              " '000062david42',\n",
              " '000094',\n",
              " '0001',\n",
              " '00010000',\n",
              " '00010000b',\n",
              " '00010001',\n",
              " '00010001b',\n",
              " '00010010',\n",
              " '00010010b',\n",
              " '00010011',\n",
              " '00010011b',\n",
              " '000100255pixel',\n",
              " '00010100',\n",
              " '00010100b',\n",
              " '00010101',\n",
              " '00010101b',\n",
              " '00010110',\n",
              " '00010110b',\n",
              " '00010111',\n",
              " '00010111b',\n",
              " '00011000',\n",
              " '00011000b',\n",
              " '00011001',\n",
              " '00011001b',\n",
              " '00011010',\n",
              " '00011010b',\n",
              " '00011011',\n",
              " '00011011b',\n",
              " '00011100',\n",
              " '00011100b',\n",
              " '00011101',\n",
              " '00011101b',\n",
              " '00011110',\n",
              " '00011110b',\n",
              " '00011111',\n",
              " '00011111b',\n",
              " '00014',\n",
              " '000152',\n",
              " '0001mpc',\n",
              " '0001x7c',\n",
              " '0002',\n",
              " '0003',\n",
              " '0004',\n",
              " '00041032',\n",
              " '0004136',\n",
              " '0004246',\n",
              " '0004422',\n",
              " '00044513',\n",
              " '0004847546',\n",
              " '0005',\n",
              " '0005895485',\n",
              " '0007',\n",
              " '00072',\n",
              " '0007259d',\n",
              " '00072741',\n",
              " '00072840',\n",
              " '00072a27',\n",
              " '000773b9',\n",
              " '00077bbe',\n",
              " '00090711',\n",
              " '000ds',\n",
              " '000k',\n",
              " '000mi',\n",
              " '000miles',\n",
              " '000th',\n",
              " '000usd',\n",
              " '0010',\n",
              " '00100000',\n",
              " '00100000b',\n",
              " '00100001',\n",
              " '00100001b',\n",
              " '00100010',\n",
              " '00100010b',\n",
              " '00100011',\n",
              " '00100011b',\n",
              " '00100100',\n",
              " '00100100b',\n",
              " '00100101',\n",
              " '00100101b',\n",
              " '00100110',\n",
              " '00100110b',\n",
              " '00100111',\n",
              " '00100111b',\n",
              " '00101000',\n",
              " '00101000b',\n",
              " '00101001',\n",
              " '00101001b',\n",
              " '00101010',\n",
              " '00101010b',\n",
              " '00101011',\n",
              " '00101011b',\n",
              " '00101100',\n",
              " '00101100b',\n",
              " '00101101',\n",
              " '00101101b',\n",
              " '00101110',\n",
              " '00101110b',\n",
              " '00101111',\n",
              " '00101111b',\n",
              " '0011',\n",
              " '00110000',\n",
              " '00110000b',\n",
              " '00110001',\n",
              " '00110001b',\n",
              " '00110010',\n",
              " '00110010b',\n",
              " '00110011',\n",
              " '00110011b',\n",
              " '00110100',\n",
              " '00110100b',\n",
              " '00110101',\n",
              " '00110101b',\n",
              " '00110110',\n",
              " '00110110b',\n",
              " '00110111',\n",
              " '00110111b',\n",
              " '00111000',\n",
              " '00111000b',\n",
              " '00111001',\n",
              " '00111001b',\n",
              " '00111010',\n",
              " '00111010b',\n",
              " '00111011',\n",
              " '00111011b',\n",
              " '00111100',\n",
              " '00111100b',\n",
              " '00111101',\n",
              " '00111101b',\n",
              " '00111110',\n",
              " '00111110b',\n",
              " '00111111',\n",
              " '00111111b',\n",
              " '0012',\n",
              " '001200201pixel',\n",
              " '0013',\n",
              " '001319',\n",
              " '0014',\n",
              " '0018',\n",
              " '00196',\n",
              " '002',\n",
              " '0020',\n",
              " '0022',\n",
              " '0024',\n",
              " '0028',\n",
              " '0029',\n",
              " '002d',\n",
              " '003',\n",
              " '0030',\n",
              " '00314',\n",
              " '0033',\n",
              " '0034',\n",
              " '0038',\n",
              " '004',\n",
              " '0040000d',\n",
              " '004021809',\n",
              " '004418',\n",
              " '0049',\n",
              " '005',\n",
              " '00500',\n",
              " '0058',\n",
              " '006',\n",
              " '0060',\n",
              " '0065',\n",
              " '0066',\n",
              " '0068',\n",
              " '007',\n",
              " '0075',\n",
              " '0078',\n",
              " '008',\n",
              " '00800',\n",
              " '0082',\n",
              " '008561',\n",
              " '0088',\n",
              " '009',\n",
              " '00900001',\n",
              " '0094',\n",
              " '0096b11b',\n",
              " '0096b294',\n",
              " '0098',\n",
              " '0099',\n",
              " '00_',\n",
              " '00acearl',\n",
              " '00am',\n",
              " '00c',\n",
              " '00each',\n",
              " '00f',\n",
              " '00g',\n",
              " '00h',\n",
              " '00index',\n",
              " '00lz8bct',\n",
              " '00m',\n",
              " '00pm',\n",
              " '00q',\n",
              " '00r',\n",
              " '00tx',\n",
              " '00tzxb',\n",
              " '00tzxb2vyn',\n",
              " '00xkv',\n",
              " '010',\n",
              " '0100',\n",
              " '01000',\n",
              " '01000000',\n",
              " '01000000b',\n",
              " '01000001',\n",
              " '01000001b',\n",
              " '01000010',\n",
              " '01000010b',\n",
              " '01000011',\n",
              " '01000011b',\n",
              " '01000100',\n",
              " '01000100b',\n",
              " '01000101',\n",
              " '01000101b',\n",
              " '01000110',\n",
              " '01000110b',\n",
              " '01000111',\n",
              " '01000111b',\n",
              " '01001000',\n",
              " '01001000b',\n",
              " '01001001',\n",
              " '01001001b',\n",
              " '01001010',\n",
              " '01001010b',\n",
              " '01001011',\n",
              " '01001011b',\n",
              " '01001100',\n",
              " '01001100b',\n",
              " '01001101',\n",
              " '01001101b',\n",
              " '01001110',\n",
              " '01001110b',\n",
              " '01001111',\n",
              " '01001111b',\n",
              " '01002',\n",
              " '01010000',\n",
              " '01010000b',\n",
              " '01010001',\n",
              " '01010001b',\n",
              " '01010010',\n",
              " '01010010b',\n",
              " '01010011',\n",
              " '01010011b',\n",
              " '01010100',\n",
              " '01010100b',\n",
              " '01010101',\n",
              " '01010101b',\n",
              " '01010110',\n",
              " '01010110b',\n",
              " '01010111',\n",
              " '01010111b',\n",
              " '01011000',\n",
              " '01011000b',\n",
              " '01011001',\n",
              " '01011001b',\n",
              " '01011010',\n",
              " '01011010b',\n",
              " '01011011',\n",
              " '01011011b',\n",
              " '01011100',\n",
              " '01011100b',\n",
              " '01011101',\n",
              " '01011101b',\n",
              " '01011110',\n",
              " '01011110b',\n",
              " '01011111',\n",
              " '01011111b',\n",
              " '010256',\n",
              " '01075',\n",
              " '011',\n",
              " '01100000',\n",
              " '01100000b',\n",
              " '01100001',\n",
              " '01100001b',\n",
              " '01100010',\n",
              " '01100010b',\n",
              " '01100011',\n",
              " '01100011b',\n",
              " '01100100',\n",
              " '01100100b',\n",
              " '01100101',\n",
              " '01100101b',\n",
              " '01100110',\n",
              " '01100110b',\n",
              " '01100111',\n",
              " '01100111b',\n",
              " '01101000',\n",
              " '01101000b',\n",
              " '01101001',\n",
              " '01101001b',\n",
              " '01101010',\n",
              " '01101010b',\n",
              " '01101011',\n",
              " '01101011b',\n",
              " '01101100',\n",
              " '01101100b',\n",
              " '01101101',\n",
              " '01101101b',\n",
              " '01101110',\n",
              " '01101110b',\n",
              " '01101111',\n",
              " '01101111b',\n",
              " '0111',\n",
              " '01110000',\n",
              " '01110000b',\n",
              " '01110001',\n",
              " '01110001b',\n",
              " '01110010',\n",
              " '01110010b',\n",
              " '01110011',\n",
              " '01110011b',\n",
              " '01110100',\n",
              " '01110100b',\n",
              " '01110101',\n",
              " '01110101b',\n",
              " '01110110',\n",
              " '01110110b',\n",
              " '01110111',\n",
              " '01110111b',\n",
              " '01111000',\n",
              " '01111000b',\n",
              " '01111001',\n",
              " '01111001b',\n",
              " '01111010',\n",
              " '01111010b',\n",
              " '01111011',\n",
              " '01111011b',\n",
              " '01111100',\n",
              " '01111100b',\n",
              " '01111101',\n",
              " '01111101b',\n",
              " '01111110',\n",
              " '01111110b',\n",
              " '01111111',\n",
              " '01111111b',\n",
              " '0115',\n",
              " '0119',\n",
              " '012',\n",
              " '012011',\n",
              " '0123456789',\n",
              " '012c',\n",
              " '012i',\n",
              " '013',\n",
              " '013846',\n",
              " '0139',\n",
              " '013939',\n",
              " '014',\n",
              " '01451',\n",
              " '014t4',\n",
              " '015',\n",
              " '016',\n",
              " '0161',\n",
              " '0162',\n",
              " '01720',\n",
              " '01730',\n",
              " '01752',\n",
              " '01760',\n",
              " '0179',\n",
              " '018',\n",
              " '0180',\n",
              " '01800',\n",
              " '01801',\n",
              " '0182',\n",
              " '01821',\n",
              " '01826',\n",
              " '0183',\n",
              " '01830',\n",
              " '0184',\n",
              " '01852',\n",
              " '01854',\n",
              " '01867',\n",
              " '0188',\n",
              " '01880',\n",
              " '01890',\n",
              " '018b',\n",
              " '019',\n",
              " '0195',\n",
              " '0199',\n",
              " '01_0',\n",
              " '01a',\n",
              " '01c',\n",
              " '01d',\n",
              " '01f6',\n",
              " '01h',\n",
              " '01h0',\n",
              " '01h5',\n",
              " '01ll',\n",
              " '01ne',\n",
              " '01o',\n",
              " '01ob',\n",
              " '01oe',\n",
              " '020',\n",
              " '0200',\n",
              " '02000',\n",
              " '02026',\n",
              " '020359',\n",
              " '020637',\n",
              " '020qw',\n",
              " '021',\n",
              " '02106',\n",
              " '02115',\n",
              " '02118',\n",
              " '02138',\n",
              " '02139',\n",
              " '02142',\n",
              " '02146',\n",
              " '02154',\n",
              " '02160',\n",
              " '02173',\n",
              " '02174',\n",
              " '02178',\n",
              " '02194',\n",
              " '021lh2u',\n",
              " '022',\n",
              " '02215',\n",
              " '0223',\n",
              " '023',\n",
              " '0235',\n",
              " '023_',\n",
              " '023b',\n",
              " '024',\n",
              " '024246',\n",
              " '0245',\n",
              " '025',\n",
              " '025258',\n",
              " '027',\n",
              " '0278',\n",
              " '02790',\n",
              " '027w',\n",
              " '028',\n",
              " '0283',\n",
              " '0284',\n",
              " '029',\n",
              " '02903',\n",
              " '02908',\n",
              " '02_',\n",
              " '02_8v',\n",
              " '02at',\n",
              " '02bp1m51',\n",
              " '02bz',\n",
              " '02d',\n",
              " '02h',\n",
              " '02ixl',\n",
              " '02j',\n",
              " '02m',\n",
              " '02njp',\n",
              " '02p',\n",
              " '02qvq',\n",
              " '02r',\n",
              " '02r4e',\n",
              " '02s',\n",
              " '02t',\n",
              " '02tl',\n",
              " '02tm_',\n",
              " '02tmn',\n",
              " '02u',\n",
              " '02v',\n",
              " '02va7pu',\n",
              " '02vx',\n",
              " '02vy',\n",
              " '02vyn',\n",
              " '02vz089',\n",
              " '02w',\n",
              " '02x',\n",
              " '0300',\n",
              " '03000',\n",
              " '0300ff',\n",
              " '0303',\n",
              " '03051',\n",
              " '0306',\n",
              " '03083',\n",
              " '031',\n",
              " '031349',\n",
              " '0314',\n",
              " '0318',\n",
              " '0320',\n",
              " '032828',\n",
              " '033',\n",
              " '0330',\n",
              " '033213',\n",
              " '0334',\n",
              " '0335',\n",
              " '034',\n",
              " '034101',\n",
              " '035',\n",
              " '0358',\n",
              " '036',\n",
              " '0369',\n",
              " '037',\n",
              " '0372',\n",
              " '03756',\n",
              " '038',\n",
              " '03800',\n",
              " '03833',\n",
              " '038o8v',\n",
              " '039',\n",
              " '0395',\n",
              " '03_',\n",
              " '03e8',\n",
              " '03f',\n",
              " '03ho',\n",
              " '03hord',\n",
              " '03hz',\n",
              " '03hzri',\n",
              " '03i',\n",
              " '03i3',\n",
              " '03ii',\n",
              " '03imv',\n",
              " '03is',\n",
              " '03j1',\n",
              " '03j1d9',\n",
              " '03k',\n",
              " '03k8',\n",
              " '03k8rg',\n",
              " '03o',\n",
              " '03p',\n",
              " '03t',\n",
              " '03y',\n",
              " '0400',\n",
              " '040286',\n",
              " '0404',\n",
              " '04046',\n",
              " '041',\n",
              " '0410',\n",
              " '0411',\n",
              " '04110',\n",
              " '041493003715',\n",
              " '0418',\n",
              " '042',\n",
              " '042427',\n",
              " '043',\n",
              " '0430',\n",
              " '0433nl',\n",
              " '0434',\n",
              " '0435',\n",
              " '044',\n",
              " '0440',\n",
              " '0444',\n",
              " '045',\n",
              " '0450',\n",
              " '0453',\n",
              " '045651',\n",
              " '0458',\n",
              " '045q2',\n",
              " '045u',\n",
              " '046',\n",
              " '046p4',\n",
              " '046q2b5u',\n",
              " '046sau',\n",
              " '046um',\n",
              " '047',\n",
              " '0483',\n",
              " '0486',\n",
              " '0488',\n",
              " '049',\n",
              " '0494',\n",
              " '04ax',\n",
              " '04b',\n",
              " '04c',\n",
              " '04e',\n",
              " '04g',\n",
              " '04g55',\n",
              " '04glvr8a',\n",
              " '04he',\n",
              " '04hj',\n",
              " '04hlal',\n",
              " '04hm34u',\n",
              " '04jdj',\n",
              " '04p',\n",
              " '04p2',\n",
              " '04q',\n",
              " '04zb',\n",
              " '050',\n",
              " '0500',\n",
              " '0502',\n",
              " '050524',\n",
              " '0507',\n",
              " '051',\n",
              " '0511',\n",
              " '0514',\n",
              " '052',\n",
              " '053',\n",
              " '0530',\n",
              " '0531',\n",
              " '05401',\n",
              " '05402',\n",
              " '0542',\n",
              " '05446',\n",
              " '0545',\n",
              " '054589e',\n",
              " '055',\n",
              " '055555556q',\n",
              " '055555556ql34u',\n",
              " '056',\n",
              " '0564m',\n",
              " '0565',\n",
              " '058',\n",
              " '05800',\n",
              " '0588773',\n",
              " '058soh9ra',\n",
              " '059',\n",
              " '0593',\n",
              " '05_',\n",
              " '05_c',\n",
              " '05a1h',\n",
              " '05bc5cvfq',\n",
              " '05gd87g',\n",
              " '05i420',\n",
              " '05jl1i',\n",
              " '05l',\n",
              " '05ll',\n",
              " '05lma',\n",
              " '05lxm34',\n",
              " '05lxn',\n",
              " '05o',\n",
              " '05q',\n",
              " '05qnf',\n",
              " '05rov',\n",
              " '05s',\n",
              " '05u',\n",
              " '05xk87',\n",
              " '05z',\n",
              " '060',\n",
              " '0600',\n",
              " '0600h',\n",
              " '0603',\n",
              " '0605',\n",
              " '06066',\n",
              " '0607',\n",
              " '0608',\n",
              " '06108',\n",
              " '06111',\n",
              " '06179397',\n",
              " '062',\n",
              " '063',\n",
              " '06320',\n",
              " '0638',\n",
              " '0639',\n",
              " '064',\n",
              " '0646',\n",
              " '06487',\n",
              " '0649',\n",
              " '065',\n",
              " '06510',\n",
              " '0656',\n",
              " '06561',\n",
              " '0666',\n",
              " '0667',\n",
              " '0669',\n",
              " '067',\n",
              " '0674',\n",
              " '0678',\n",
              " '068',\n",
              " '069',\n",
              " '0695',\n",
              " '06dz',\n",
              " '06eh',\n",
              " '06f1',\n",
              " '06hwke',\n",
              " '06j',\n",
              " '06ku',\n",
              " '06kv',\n",
              " '06lm',\n",
              " '06mz',\n",
              " '06p',\n",
              " '06t',\n",
              " '06tz',\n",
              " '06tzv',\n",
              " '06umv',\n",
              " '06w',\n",
              " '06w8',\n",
              " '06zkc4',\n",
              " '070',\n",
              " '07000',\n",
              " '0701',\n",
              " '07059',\n",
              " '0709',\n",
              " '07090',\n",
              " '071',\n",
              " '0710',\n",
              " '0714',\n",
              " '0715',\n",
              " '071791',\n",
              " '0718',\n",
              " '072',\n",
              " '07220yfz',\n",
              " '0729',\n",
              " '072q',\n",
              " '073',\n",
              " '0739',\n",
              " '073b',\n",
              " '073m',\n",
              " '074',\n",
              " '07410',\n",
              " '0747',\n",
              " '075',\n",
              " '0752',\n",
              " '075822',\n",
              " '07653',\n",
              " '077',\n",
              " '07748',\n",
              " '078',\n",
              " '07800',\n",
              " '07834',\n",
              " '0785',\n",
              " '079',\n",
              " '0791',\n",
              " '0793',\n",
              " '07aq',\n",
              " '07b',\n",
              " '07fi',\n",
              " '07i',\n",
              " '07iz',\n",
              " '07l99',\n",
              " '080',\n",
              " '0800',\n",
              " '08000',\n",
              " '0804',\n",
              " '08080',\n",
              " '080r',\n",
              " '081',\n",
              " '0812',\n",
              " '082',\n",
              " '0820',\n",
              " '0824e',\n",
              " '0824e2vyn',\n",
              " '0825',\n",
              " '0825a',\n",
              " '0826',\n",
              " '08267',\n",
              " '0826j',\n",
              " '083',\n",
              " '0832',\n",
              " '0837',\n",
              " '0839',\n",
              " '083c',\n",
              " '084',\n",
              " '08439',\n",
              " '0845',\n",
              " '0846',\n",
              " '084o',\n",
              " '085',\n",
              " '0850',\n",
              " '08502',\n",
              " '0853',\n",
              " '0854',\n",
              " '08540',\n",
              " '08544',\n",
              " '0856e16',\n",
              " '086',\n",
              " '0863',\n",
              " '0865',\n",
              " '087',\n",
              " '0877',\n",
              " '0878',\n",
              " '08786',\n",
              " '088',\n",
              " '0881',\n",
              " '08817',\n",
              " '08854',\n",
              " '088z',\n",
              " '089',\n",
              " '08903',\n",
              " '08934',\n",
              " '08a283a0',\n",
              " '08e',\n",
              " '08h',\n",
              " '08m9',\n",
              " '08mb',\n",
              " '08n',\n",
              " '08t',\n",
              " '08v',\n",
              " '08w',\n",
              " '08ws',\n",
              " '08x',\n",
              " '0900',\n",
              " '0901',\n",
              " '0903',\n",
              " '0908',\n",
              " '091',\n",
              " '0911',\n",
              " '092',\n",
              " '092101',\n",
              " '0922',\n",
              " '0926',\n",
              " '0936',\n",
              " '094',\n",
              " '0941',\n",
              " '0943',\n",
              " '095',\n",
              " '0952',\n",
              " '0954',\n",
              " '0962',\n",
              " '097',\n",
              " '0970',\n",
              " '0971',\n",
              " '098',\n",
              " '09800',\n",
              " '0988',\n",
              " '099',\n",
              " '0998',\n",
              " '09c',\n",
              " '09d3',\n",
              " '09fz',\n",
              " '09g9',\n",
              " '09k_',\n",
              " '09t',\n",
              " '09tcb0',\n",
              " '09w',\n",
              " '0_',\n",
              " '0_0',\n",
              " '0_33o',\n",
              " '0_35r',\n",
              " '0_4',\n",
              " '0_8ge',\n",
              " '0_9g',\n",
              " '0_9r',\n",
              " '0_e8',\n",
              " '0_h',\n",
              " '0_n',\n",
              " '0_p',\n",
              " '0_r',\n",
              " '0_s63',\n",
              " '0a',\n",
              " '0a000',\n",
              " '0a1',\n",
              " '0a3',\n",
              " '0a99',\n",
              " '0as',\n",
              " '0ax',\n",
              " '0azojt',\n",
              " '0b1fatransfer',\n",
              " '0b6er',\n",
              " '0b800',\n",
              " '0b800h',\n",
              " '0b9w',\n",
              " '0bj',\n",
              " '0bla',\n",
              " '0bm2',\n",
              " '0bn',\n",
              " '0bnw',\n",
              " '0bqr',\n",
              " '0bs',\n",
              " '0bsjom',\n",
              " '0bt',\n",
              " '0bus',\n",
              " '0bz',\n",
              " '0c000',\n",
              " '0c5',\n",
              " '0c5r',\n",
              " '0c800',\n",
              " '0c8h',\n",
              " '0c8xmb',\n",
              " '0c_',\n",
              " '0c_l',\n",
              " '0c_n',\n",
              " '0c_x',\n",
              " '0ca',\n",
              " '0cb',\n",
              " '0cc9',\n",
              " '0cg',\n",
              " '0cgf',\n",
              " '0cgy2',\n",
              " '0ct1t',\n",
              " '0cwm',\n",
              " '0cy3',\n",
              " '0d1',\n",
              " '0d2',\n",
              " '0d36b',\n",
              " '0d4',\n",
              " '0d6',\n",
              " '0d63wi',\n",
              " '0d84',\n",
              " '0d86x4r',\n",
              " '0db',\n",
              " '0ded',\n",
              " '0df',\n",
              " '0dfsx',\n",
              " '0dfvij',\n",
              " '0dfyl',\n",
              " '0dgq',\n",
              " '0dgw83',\n",
              " '0dki',\n",
              " '0du',\n",
              " '0dum',\n",
              " '0dvf2l',\n",
              " '0dy',\n",
              " '0e',\n",
              " '0e0',\n",
              " '0e000',\n",
              " '0e1',\n",
              " '0e1jc',\n",
              " '0e4',\n",
              " '0e75',\n",
              " '0e75x',\n",
              " '0e9',\n",
              " '0e97pm4',\n",
              " '0e97pm8',\n",
              " '0e97pms8',\n",
              " '0eg6g',\n",
              " '0ek',\n",
              " '0ekr',\n",
              " '0en36',\n",
              " '0er',\n",
              " '0erdivbud',\n",
              " '0erv',\n",
              " '0etctapl',\n",
              " '0ex',\n",
              " '0ex6',\n",
              " '0ez',\n",
              " '0f',\n",
              " '0f000',\n",
              " '0f1',\n",
              " '0f1u',\n",
              " '0f2',\n",
              " '0f3',\n",
              " '0f8',\n",
              " '0ffh',\n",
              " '0ffnm',\n",
              " '0fgj5',\n",
              " '0fh',\n",
              " '0fhmt',\n",
              " '0fk',\n",
              " '0fq',\n",
              " '0fs',\n",
              " '0fu',\n",
              " '0fv8',\n",
              " '0g',\n",
              " '0g12o',\n",
              " '0g19',\n",
              " '0g4',\n",
              " '0g8',\n",
              " '0ga',\n",
              " '0gg',\n",
              " '0ggu',\n",
              " '0ggv',\n",
              " '0gi',\n",
              " '0giyx',\n",
              " '0gn',\n",
              " '0gx',\n",
              " '0h1',\n",
              " '0h2',\n",
              " '0h23tc',\n",
              " '0h4ou',\n",
              " '0h6asvg',\n",
              " '0h6o481w8h1t2',\n",
              " '0h8',\n",
              " '0h9',\n",
              " '0h9_',\n",
              " '0hd',\n",
              " '0hdf',\n",
              " '0hg',\n",
              " '0hh9',\n",
              " '0hnz',\n",
              " '0hpg5x',\n",
              " '0hq',\n",
              " '0ht',\n",
              " ...]"
            ]
          },
          "metadata": {
            "tags": []
          },
          "execution_count": 198
        }
      ]
    },
    {
      "cell_type": "markdown",
      "metadata": {
        "id": "0m-7CWFLc_EZ"
      },
      "source": [
        "### Norme du vecteur"
      ]
    },
    {
      "cell_type": "code",
      "metadata": {
        "colab": {
          "base_uri": "https://localhost:8080/"
        },
        "id": "UjGy0sG_c_Ea",
        "outputId": "597b2ed9-cd65-4e1f-c045-28332b738742"
      },
      "source": [
        "np.linalg.norm(vecteur_tfidf.toarray())"
      ],
      "execution_count": null,
      "outputs": [
        {
          "output_type": "execute_result",
          "data": {
            "text/plain": [
              "43.35287803918421"
            ]
          },
          "metadata": {
            "tags": []
          },
          "execution_count": 138
        }
      ]
    },
    {
      "cell_type": "markdown",
      "metadata": {
        "id": "FN_MsZJUc_Ea"
      },
      "source": [
        "### Vectorisation TF-IDF du corpus"
      ]
    },
    {
      "cell_type": "code",
      "metadata": {
        "id": "gWr3pfN2c_Ea"
      },
      "source": [
        "X = transformeur.transform(X_comptage)\n"
      ],
      "execution_count": null,
      "outputs": []
    },
    {
      "cell_type": "code",
      "metadata": {
        "colab": {
          "base_uri": "https://localhost:8080/"
        },
        "id": "KIzslcmmoQ14",
        "outputId": "e0de76ce-807e-4f3b-bd94-f18d04ddb8c8"
      },
      "source": [
        "X"
      ],
      "execution_count": null,
      "outputs": [
        {
          "output_type": "execute_result",
          "data": {
            "text/plain": [
              "<11314x101631 sparse matrix of type '<class 'numpy.float64'>'\n",
              "\twith 1103627 stored elements in Compressed Sparse Row format>"
            ]
          },
          "metadata": {
            "tags": []
          },
          "execution_count": 186
        }
      ]
    },
    {
      "cell_type": "markdown",
      "metadata": {
        "id": "g7dB92rIc_Ea"
      },
      "source": [
        "### Produit scalaire entre deux vecteurs du corpus (X[0,:] et X[1,:])"
      ]
    },
    {
      "cell_type": "code",
      "metadata": {
        "scrolled": false,
        "colab": {
          "base_uri": "https://localhost:8080/"
        },
        "id": "JZUmcoVQc_Eb",
        "outputId": "90f1bc49-8866-4503-c439-582fe3bfd586"
      },
      "source": [
        "print(X[0])"
      ],
      "execution_count": null,
      "outputs": [
        {
          "output_type": "stream",
          "text": [
            "  (0, 100208)\t1.790155814472015\n",
            "  (0, 99911)\t3.5192532786431427\n",
            "  (0, 97181)\t5.12431002306168\n",
            "  (0, 96433)\t3.1933431328019424\n",
            "  (0, 96395)\t4.620063370393732\n",
            "  (0, 96247)\t2.896001054231169\n",
            "  (0, 95844)\t8.969899609490763\n",
            "  (0, 89360)\t1.2901008813358654\n",
            "  (0, 88767)\t7.053765745490525\n",
            "  (0, 88638)\t2.232724672783557\n",
            "  (0, 88532)\t7.064304875714843\n",
            "  (0, 88143)\t10.333796175903101\n",
            "  (0, 84538)\t6.129103556512135\n",
            "  (0, 84276)\t6.114288470726994\n",
            "  (0, 83426)\t4.237971613470876\n",
            "  (0, 81658)\t5.466261725447518\n",
            "  (0, 80623)\t4.750299867121402\n",
            "  (0, 77878)\t4.559244630358693\n",
            "  (0, 76471)\t3.354650900834291\n",
            "  (0, 73373)\t6.04333673475471\n",
            "  (0, 71850)\t3.2758982384912447\n",
            "  (0, 68847)\t2.4962418150220165\n",
            "  (0, 68781)\t2.6722690945445837\n",
            "  (0, 68409)\t1.969288072152512\n",
            "  (0, 68080)\t3.5671102608813268\n",
            "  :\t:\n",
            "  (0, 48754)\t3.855516067706052\n",
            "  (0, 46814)\t4.67431396014348\n",
            "  (0, 45885)\t1.7702920816236132\n",
            "  (0, 41979)\t8.542036706675045\n",
            "  (0, 41724)\t4.86573603476797\n",
            "  (0, 41715)\t4.371858091958309\n",
            "  (0, 37335)\t7.768846818441564\n",
            "  (0, 37287)\t5.363982876327101\n",
            "  (0, 35974)\t4.735374216904726\n",
            "  (0, 34810)\t6.483648574193042\n",
            "  (0, 34809)\t5.554672682791572\n",
            "  (0, 31990)\t3.93353873059428\n",
            "  (0, 30074)\t2.9060573353702077\n",
            "  (0, 25775)\t17.40952785859448\n",
            "  (0, 25590)\t2.101621939519161\n",
            "  (0, 25492)\t3.9418790625104987\n",
            "  (0, 24635)\t7.38935719673666\n",
            "  (0, 24160)\t9.640648995343156\n",
            "  (0, 23480)\t4.836627950609899\n",
            "  (0, 21987)\t1.8260474433148635\n",
            "  (0, 18915)\t6.179137320599502\n",
            "  (0, 17936)\t2.2647668471281435\n",
            "  (0, 16809)\t5.26489197368287\n",
            "  (0, 11174)\t7.768846818441564\n",
            "  (0, 9843)\t7.848889526115101\n"
          ],
          "name": "stdout"
        }
      ]
    },
    {
      "cell_type": "markdown",
      "metadata": {
        "id": "Qm6kYWKlc_Eb"
      },
      "source": [
        "### Fonction produit scalaire"
      ]
    },
    {
      "cell_type": "code",
      "metadata": {
        "id": "G-Vs0-Hnc_Eb"
      },
      "source": [
        "def prod(x,y):\n",
        "    return x.dot(y.T).toarray()[0][0]"
      ],
      "execution_count": null,
      "outputs": []
    },
    {
      "cell_type": "markdown",
      "metadata": {
        "id": "O4L0Qi0qc_Ec"
      },
      "source": [
        "### Fonction Similarité"
      ]
    },
    {
      "cell_type": "code",
      "metadata": {
        "id": "9qnY7AKAc_Ec"
      },
      "source": [
        "def sim(x,y):\n",
        "    num = prod(x,y)\n",
        "    den1 = np.sqrt(prod(x,x))\n",
        "    den2 = np.sqrt(prod(y,y))\n",
        "    return num / (den1 * den2)    "
      ],
      "execution_count": null,
      "outputs": []
    },
    {
      "cell_type": "code",
      "metadata": {
        "colab": {
          "base_uri": "https://localhost:8080/"
        },
        "id": "LKduQONxc_Ec",
        "outputId": "420ca0de-9394-4f15-a348-c70d900712f1"
      },
      "source": [
        "sim(X[0,:],X[1,:])"
      ],
      "execution_count": null,
      "outputs": [
        {
          "output_type": "execute_result",
          "data": {
            "text/plain": [
              "0.062894713024627"
            ]
          },
          "metadata": {
            "tags": []
          },
          "execution_count": 143
        }
      ]
    },
    {
      "cell_type": "markdown",
      "metadata": {
        "id": "lGk3KYlCc_Ed"
      },
      "source": [
        "## <font color='purple'>Problème\n",
        "\n",
        "<font color='purple'>\n",
        "Ecrivez et testez une fonction qui prend une requête de l'utilisateur sous la forme d'une liste de mots-clés (en anglais) et qui retourne la liste des 10 textes de la base les plus similaires à la requête par ordre décroissant de similarité.\n",
        "</font>"
      ]
    },
    {
      "cell_type": "code",
      "metadata": {
        "id": "cfVOzGEpc_Ed"
      },
      "source": [
        "def response(req):\n",
        "  X_comptagereq = vectoriseur.transform(req)\n",
        "  X_req = transformeur.transform(X_comptagereq)\n",
        "  A={}\n",
        "  z=0\n",
        "  for i in range(len(corpus)):\n",
        "    for j in range(len(req)):\n",
        "      z=z+sim(X[i,:],X_req[j,:]) #Pour chaque élement j de la requête il y'a un calcul de similarité qui est fait pour le document i. Par la suite il faut faire la somme des similarités\n",
        "    A[i]=z\n",
        "    z=0\n",
        "  sorted_A = sorted(A.items(), key=lambda x: x[1],reverse=True)\n",
        "  return sorted_A[:10]\n",
        "\n"
      ],
      "execution_count": null,
      "outputs": []
    },
    {
      "cell_type": "markdown",
      "metadata": {
        "id": "JqZN2pcipa3a"
      },
      "source": [
        "la fonction retourne 10 tuples correspondant aux 10 primiers documents avec les scores de similarité (somme des similarités)calculés."
      ]
    },
    {
      "cell_type": "code",
      "metadata": {
        "id": "IIgRaCEygLym"
      },
      "source": [
        "B=['the', 'max']"
      ],
      "execution_count": null,
      "outputs": []
    },
    {
      "cell_type": "code",
      "metadata": {
        "colab": {
          "base_uri": "https://localhost:8080/"
        },
        "id": "l91P4fwGeWpo",
        "outputId": "fca0a1cd-0bf8-413f-d398-407010bc21b0"
      },
      "source": [
        "B=['summer']\n",
        "response(B)"
      ],
      "execution_count": null,
      "outputs": [
        {
          "output_type": "stream",
          "text": [
            "/usr/local/lib/python3.6/dist-packages/ipykernel_launcher.py:5: RuntimeWarning: invalid value encountered in double_scalars\n",
            "  \"\"\"\n"
          ],
          "name": "stderr"
        },
        {
          "output_type": "execute_result",
          "data": {
            "text/plain": [
              "[(200, 0.2729512639508488),\n",
              " (720, 0.21356983431342014),\n",
              " (620, 0.173523465367272),\n",
              " (9240, 0.10567164106946193),\n",
              " (388, 0.08805599507313351),\n",
              " (327, 0.06387490347308232),\n",
              " (2, 0.061413843384225834),\n",
              " (59, 0.012174940451679625),\n",
              " (0, 0.0),\n",
              " (3, 0.0)]"
            ]
          },
          "metadata": {
            "tags": []
          },
          "execution_count": 197
        }
      ]
    },
    {
      "cell_type": "code",
      "metadata": {
        "colab": {
          "base_uri": "https://localhost:8080/",
          "height": 53
        },
        "id": "0Ilxy2pmkfIR",
        "outputId": "f6253b95-9db0-4ca6-d496-c13fb3de0177"
      },
      "source": [
        "corpus[200]"
      ],
      "execution_count": null,
      "outputs": [
        {
          "output_type": "execute_result",
          "data": {
            "application/vnd.google.colaboratory.intrinsic+json": {
              "type": "string"
            },
            "text/plain": [
              "'\\nI first read and consulted rec.guns in the summer of 1991.  I\\njust purchased my first firearm in early March of this year.'"
            ]
          },
          "metadata": {
            "tags": []
          },
          "execution_count": 190
        }
      ]
    },
    {
      "cell_type": "code",
      "metadata": {
        "colab": {
          "base_uri": "https://localhost:8080/",
          "height": 53
        },
        "id": "NgZVWH9-q6eV",
        "outputId": "48438576-5bfc-4632-fd11-7d29364d35ba"
      },
      "source": [
        "corpus[720]"
      ],
      "execution_count": null,
      "outputs": [
        {
          "output_type": "execute_result",
          "data": {
            "application/vnd.google.colaboratory.intrinsic+json": {
              "type": "string"
            },
            "text/plain": [
              "'Just out of curiosity, what happened to the weekly AL and NL Game\\nScore Reports?  I used to enjoy reading them throughout the summer\\nfor the last two years.\\n\\nInquisitively yours,\\n\\nJoel'"
            ]
          },
          "metadata": {
            "tags": []
          },
          "execution_count": 195
        }
      ]
    }
  ]
}